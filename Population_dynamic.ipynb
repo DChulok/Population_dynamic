{
 "cells": [
  {
   "cell_type": "markdown",
   "metadata": {},
   "source": [
    "Работа Чулкова Данила, студента 775 группы."
   ]
  },
  {
   "cell_type": "code",
   "execution_count": 1,
   "metadata": {},
   "outputs": [],
   "source": [
    "import numpy as np\n",
    "import pandas as pd\n",
    "import matplotlib.pyplot as plt\n",
    "%matplotlib inline"
   ]
  },
  {
   "cell_type": "code",
   "execution_count": 2,
   "metadata": {},
   "outputs": [],
   "source": [
    "from pylab import rcParams\n",
    "rcParams['figure.figsize'] = 8, 8"
   ]
  },
  {
   "cell_type": "code",
   "execution_count": 56,
   "metadata": {},
   "outputs": [],
   "source": [
    "import warnings\n",
    "warnings.filterwarnings('ignore')"
   ]
  },
  {
   "cell_type": "markdown",
   "metadata": {},
   "source": [
    "__Навигация по проекту__\n",
    "\n",
    "1) [Введение](#1)\n",
    "\n",
    "2) [Явный метод Рунге-Кутты первого порядка](#2)\n",
    "\n",
    "3) [Явный метод Рунге-Кутты четвертого порядка](#3)\n",
    "\n",
    "4) [Неявный метод Рунге-Кутты. Провал](#4)\n",
    "\n",
    "5) [Попытка все исправить. Успех!](#5)\n",
    "\n",
    "6) [Заключение](#6)"
   ]
  },
  {
   "cell_type": "markdown",
   "metadata": {},
   "source": [
    "## <a id=1>Введение</a>"
   ]
  },
  {
   "cell_type": "markdown",
   "metadata": {},
   "source": [
    "Имеем три задачи, каждая из которых - система ОДУ, описывающая изменение изменение численности популяций двух видов и эволюцию некоего генетического признака $\\alpha$. "
   ]
  },
  {
   "cell_type": "markdown",
   "metadata": {},
   "source": [
    "__Первая__\n",
    "\n",
    "$\n",
    "\\begin{equation*}\n",
    " \\begin{cases}\n",
    "   \\overset{.}{x}=x(1-0.5x-\\frac{2}{7\\alpha^2}y)\\\\\n",
    "   \\overset{.}{y}=y(2\\alpha-3.5\\alpha^2x-0.5y)\\\\\n",
    "   \\overset{.}{\\alpha}=\\varepsilon(2-7\\alpha x)\n",
    " \\end{cases}\n",
    "\\end{equation*}\n",
    "$\n",
    "\n",
    "где $0< \\varepsilon\\leq 10^{-2}, 0\\leq x_0\\leq 3, 0\\leq y_0 \\leq 15, \\alpha_0=0.$\n",
    "\n",
    "__Вторая__\n",
    "\n",
    "$\n",
    "\\begin{equation*}\n",
    " \\begin{cases}\n",
    "   \\overset{.}{x}=x(2\\alpha_1-0.5x-\\alpha_1^2\\alpha_2^{-2}y)\\\\\n",
    "   \\overset{.}{y}=y(2\\alpha_2-\\alpha_1^{-2}\\alpha_2^{-2}x-0.5y)\\\\\n",
    "   \\overset{.}{\\alpha_1}=\\varepsilon(2-2\\alpha_1\\alpha_2^{-2}y)\\\\\n",
    "   \\overset{.}{\\alpha_2}=\\varepsilon(2-2\\alpha_2\\alpha_1^{-2}x)\n",
    " \\end{cases}\n",
    "\\end{equation*}\n",
    "$\n",
    "\n",
    "где $0< \\varepsilon\\leq 10^{-2}, 0\\leq x_0\\leq 40, 0\\leq y_0 \\leq 40, \\alpha_{10}=0, \\alpha_{20}=10.$\n",
    "\n",
    "__Третья__\n",
    "\n",
    "$\n",
    "\\begin{equation*}\n",
    " \\begin{cases}\n",
    "   \\overset{.}{x}=x(2\\alpha_1-0.5x-\\alpha_1^3\\alpha_2^{-3}y)\\\\\n",
    "   \\overset{.}{y}=y(2\\alpha_2-\\alpha_1^{-3}\\alpha_2^{3}x-0.5y)\\\\\n",
    "   \\overset{.}{\\alpha_1}=\\varepsilon(2-3\\alpha_1^2\\alpha_2^{-3}y)\\\\\n",
    "   \\overset{.}{\\alpha_2}=\\varepsilon(2-3\\alpha_2^2\\alpha_1^{-3}x)\n",
    " \\end{cases}\n",
    "\\end{equation*}\n",
    "$\n",
    "\n",
    "где $0< \\varepsilon\\leq 10^{-3}, 0\\leq x_0\\leq 40, 0\\leq y_0 \\leq 40, \\alpha_{10}=0, \\alpha_{20}=10.$\n",
    "\n",
    "$0\\leq t \\leq 2000$"
   ]
  },
  {
   "cell_type": "markdown",
   "metadata": {},
   "source": [
    "Определим функции, возвращающую вектор значений $\\overline{f}$ для каждой из правых частей трех систем выше."
   ]
  },
  {
   "cell_type": "code",
   "execution_count": 45,
   "metadata": {},
   "outputs": [],
   "source": [
    "def first_odu_function(t, values, eps=1e-3):\n",
    "    \"\"\"\n",
    "    Returns the vector of values for the first system.\n",
    "    \n",
    "    Parameters:\n",
    "    x, y, aplha\n",
    "    eps - the system parameter (by default 1e-3)\n",
    "    \n",
    "    \"\"\"\n",
    "    x = values[0]\n",
    "    y = values[1]\n",
    "    alpha = values[2]\n",
    "    return np.array([x*(1-0.5*x-2*y/(7*alpha**2)),\n",
    "                     y*(2*alpha-3.5*alpha**2*x-0.5*y),\n",
    "                     eps*(2-7*alpha*x)])"
   ]
  },
  {
   "cell_type": "code",
   "execution_count": 53,
   "metadata": {},
   "outputs": [],
   "source": [
    "def second_odu_function(t, values, eps=1e-3):\n",
    "    \"\"\"\n",
    "    Returns the vector of values for the second system.\n",
    "    \n",
    "    Parameters:\n",
    "    x, y, aplha1, alpha2\n",
    "    eps - the system parameter (by default 1e-3)\n",
    "    \n",
    "    \"\"\"\n",
    "    x = values[0]\n",
    "    y = values[1]\n",
    "    alpha1 = values[2]\n",
    "    alpha2 = values[3]\n",
    "    return np.array([x*(2*alpha1-0.5*x-alpha1**2*alpha2**(-2)*y),\n",
    "                     y*(2*alpha2-alpha1**(-2)*alpha2**(-2)*x-0.5*y),\n",
    "                     eps*(2-2*alpha1*alpha2**(-2)*y),\n",
    "                     eps*(2-2*alpha2*alpha1**(-2)*x)])"
   ]
  },
  {
   "cell_type": "code",
   "execution_count": 54,
   "metadata": {},
   "outputs": [],
   "source": [
    "def third_odu_function(t, values, eps=1e-4):\n",
    "    \"\"\"\n",
    "    Returns the vector of values for the third system.\n",
    "    \n",
    "    Parameters:\n",
    "    x, y, aplha1, alpha2\n",
    "    eps - the system parameter (by default 1e-4)\n",
    "    \n",
    "    \"\"\"\n",
    "    x = values[0]\n",
    "    y = values[1]\n",
    "    alpha1 = values[2]\n",
    "    alpha2 = values[3]\n",
    "    return np.array([x*(2*alpha1-0.5*x-alpha1**3*alpha2**(-3)*y),\n",
    "                     y*(2*alpha2-alpha1**(-3)*alpha2**(-3)*x-0.5*y),\n",
    "                     eps*(2-3*alpha1**2*alpha2**(-3)*y),\n",
    "                     eps*(2-3*alpha2**2*alpha1**(-3)*x)])"
   ]
  },
  {
   "cell_type": "markdown",
   "metadata": {},
   "source": [
    "Для численного решения этих систем воспользуемся явными мтодами Рунге-Кутты 1-го и 4-го порядков точности, а также неявным методом Рунге-Кутты (Хаммера-Холлинсворта)"
   ]
  },
  {
   "cell_type": "markdown",
   "metadata": {},
   "source": [
    "## <a id=2> Явный метод Рунге-Кутты первого порядка </a>"
   ]
  },
  {
   "cell_type": "markdown",
   "metadata": {},
   "source": [
    "Начнем с решения систем ОДУ явными методами Рунге-Кутты. Эти методы являются отношаговыми - для построения решения на данном шаге необходимо знать лишь искомые значения на предыдущем. Метод, рассматриваемый в этом разделе, - самый простой и имеет первый порядок точности.\n",
    "\n",
    "__Схема метода__\n",
    "\n",
    "Чтобы решить систему ОДУ вида:\n",
    "$$\\overset{.}{\\overline{z}}=\\overline{f}(t,\\overline{z})$$\n",
    "На каждом шаге сетки i (с размером шага h) мы находим очередное значение целового вектора функций (в случае системы) по следующей формуле:\n",
    "\n",
    "$$ \\overline{z}_{i+1} = \\overline{z}_{i} + h\\overline{f}(t_i,\\overline{z}_i)$$"
   ]
  },
  {
   "cell_type": "markdown",
   "metadata": {},
   "source": [
    "Реализация метода согласно приведенному выше описанию:"
   ]
  },
  {
   "cell_type": "code",
   "execution_count": 48,
   "metadata": {},
   "outputs": [],
   "source": [
    "def Runge_Kutta_1(fun, z0, eps=1e-3, T=2000, h=0.05, error_info=False):\n",
    "    \"\"\"\n",
    "    First-order Runge-Kutta method.\n",
    "    \n",
    "    Parametres:\n",
    "    fun: function, that corresponds the ODU system\n",
    "    z0 - initial values\n",
    "    eps - the system parameter (by default 1e-3)\n",
    "    T - the time bound (2000 by default)\n",
    "    h - the step size (0.05 by default)\n",
    "    error_info - bool (False by default), whether show info of method errors or not\n",
    "    \n",
    "    Returns:\n",
    "    History of method working.\n",
    "    \n",
    "    \"\"\"\n",
    "    N = int(T/h) # steps\n",
    "    columns=['Time', 'X', 'Y']+['Alpha'+str(i+1) for i in range(len(z0)-2)]\n",
    "    history = pd.DataFrame([np.append([0],z0)], columns=columns)\n",
    "    \n",
    "    for i in range(1,N+1):\n",
    "        try:\n",
    "            t = history.iloc[i-1]['Time']\n",
    "            t_new = t + h\n",
    "            f_new = history.iloc[i-1]['X':] + h*fun(t=t, values=history.iloc[i-1]['X':])\n",
    "            history.loc[i,'Time'] = t_new\n",
    "            history.loc[i]['X':] = f_new\n",
    "        except ArithmeticError:\n",
    "            if error_info:\n",
    "                print('Метод разошелся после {} шагов!('.format(i))\n",
    "            return history\n",
    "        if history.iloc[i-1].isna().any():\n",
    "            if error_info:\n",
    "                print('Метод разошелся после {} шагов!('.format(i))\n",
    "            return history\n",
    "    return history"
   ]
  },
  {
   "cell_type": "markdown",
   "metadata": {},
   "source": [
    "Величину шага берем 0.05 (поменьше - лучше)."
   ]
  },
  {
   "cell_type": "markdown",
   "metadata": {},
   "source": [
    "Перейдем к анализу работы метода. Сначала попробуем решить с его помощью первую систему ОДУ. Начальные значения $\\alpha$ попробуем взять 0.001 вместо положенного 0, ведь иначе мы столкнемся с делением на 0. Начальные значения x0 и y0 будем задавать всеми возможными комбинациями ограничений из условий, то есть множеством пар $(x_0,y_0): x_0 \\in [0,2], y_o \\in [0,2,...,14]$. Таким образом получим $1*2*8=16$ попытки работы метода."
   ]
  },
  {
   "cell_type": "code",
   "execution_count": 7,
   "metadata": {},
   "outputs": [],
   "source": [
    "first_x_grid = np.arange(0,2)\n",
    "first_y_grid = np.arange(0,16,2)"
   ]
  },
  {
   "cell_type": "markdown",
   "metadata": {},
   "source": [
    "Зададим словари, где будем хранить всю историю и результаты работ каждого из методов, которые мы попробуем для каждой из систем."
   ]
  },
  {
   "cell_type": "code",
   "execution_count": 8,
   "metadata": {},
   "outputs": [],
   "source": [
    "History = {}\n",
    "Results = {}\n",
    "History['first'] = {}\n",
    "Results['first'] = {}\n",
    "History['fourth'] = {}\n",
    "Results['fourth'] = {}\n",
    "History['implicit'] = {}\n",
    "Results['implicit'] = {}"
   ]
  },
  {
   "cell_type": "markdown",
   "metadata": {},
   "source": [
    "Для того чтобы в дальнейшем проще тестить на различных начальных значениях методы определим вспомогательную функцию."
   ]
  },
  {
   "cell_type": "code",
   "execution_count": 9,
   "metadata": {},
   "outputs": [],
   "source": [
    "def testing_method(method, fun, xs, ys, alphas1, alphas2=None, **kwargs):\n",
    "    \"\"\"\n",
    "    Tests the method on the set of parameters.\n",
    "    \n",
    "    Parameters:\n",
    "    method - function\n",
    "    fun - function (that method needs to)\n",
    "    xs - set of initial values x_0\n",
    "    ys - set of initial values y_0\n",
    "    alphas1 - set of initial alpha1 values\n",
    "    alphas2 - set of initial alpha2 values (if required)\n",
    "    **args - extra arguments if needed\n",
    "    \n",
    "    Returns: the history of tests and resulting table.\n",
    "    \n",
    "    \"\"\"\n",
    "    x_, y_ = np.meshgrid(xs, ys)\n",
    "    i=0\n",
    "    History_ = []\n",
    "    if alphas2 is None:\n",
    "        columns = ['x0', 'y0','alpha1_0','alpha1_final','Сошелся', 'Число успешных шагов']\n",
    "    else:\n",
    "        columns = ['x0', 'y0','alpha1_0', 'alpha2_0','alpha1_final', 'alpha2_final','Сошелся', 'Число успешных шагов']\n",
    "    Results_ = pd.DataFrame([], columns=columns)\n",
    "    \n",
    "    if alphas2 is None:\n",
    "        for alpha in alphas1 if type(alphas1) is list else [alphas1]:\n",
    "            for initial in np.dstack([x_.ravel(),y_.ravel()])[0]:\n",
    "                history = method(fun, z0=np.append(initial,[alpha]), **kwargs)\n",
    "                History_.append(history)\n",
    "                Results_.loc[i,'x0':'y0'] = initial\n",
    "                Results_.loc[i, 'alpha1_0':] = [alpha, history.loc[len(history)-1,'Alpha1'], len(history)-1==40000 and (np.all(np.abs(history.loc[len(history)-1])<1e50)) , len(history)-1]\n",
    "                i+=1\n",
    "    else:\n",
    "        a1_, a2_ = np.meshgrid(alphas1, alphas2)\n",
    "        for alphas in np.dstack([a1_.ravel(), a2_.ravel()])[0]:\n",
    "            for initial in np.dstack([x_.ravel(),y_.ravel()])[0]:\n",
    "                history = method(fun, z0=np.append(initial,alphas), **kwargs)\n",
    "                History_.append(history)\n",
    "                Results_.loc[i,'x0':'y0'] = initial\n",
    "                Results_.loc[i, 'alpha1_0':'alpha2_0'] = alphas\n",
    "                Results_.loc[i, 'alpha1_final'] = history.loc[len(history)-1,'Alpha1']\n",
    "                Results_.loc[i, 'alpha2_final'] = history.loc[len(history)-1,'Alpha2']\n",
    "                Results_.loc[i, 'Сошелся':] = [len(history)-1==40000 and (np.all(np.abs(history.loc[len(history)-1])<1e50)) , len(history)-1]\n",
    "                i+=1\n",
    "    return [History_, Results_]"
   ]
  },
  {
   "cell_type": "markdown",
   "metadata": {},
   "source": [
    "Врубаем на __первой системе__ ОДУ"
   ]
  },
  {
   "cell_type": "code",
   "execution_count": 10,
   "metadata": {},
   "outputs": [
    {
     "name": "stdout",
     "output_type": "stream",
     "text": [
      "CPU times: user 12min 6s, sys: 3.74 s, total: 12min 10s\n",
      "Wall time: 12min 11s\n"
     ]
    }
   ],
   "source": [
    "%%time\n",
    "History['first'][1], Results['first'][1] = testing_method(Runge_Kutta_1, first_odu_function,\n",
    "                                                          first_x_grid, first_y_grid, alphas1=0.001)"
   ]
  },
  {
   "cell_type": "code",
   "execution_count": 11,
   "metadata": {
    "scrolled": true
   },
   "outputs": [
    {
     "name": "stdout",
     "output_type": "stream",
     "text": [
      "Из 16 попыток в итоге сошлись 9\n"
     ]
    }
   ],
   "source": [
    "print('Из {} попыток в итоге сошлись {}'.format(len(Results['first'][1]), np.count_nonzero(Results['first'][1]['Сошелся'])))"
   ]
  },
  {
   "cell_type": "markdown",
   "metadata": {},
   "source": [
    "Возможно, при меньшем шаге h сошлось бы больше, но тут и так ждать 10 мин, куда еще..."
   ]
  },
  {
   "cell_type": "code",
   "execution_count": 12,
   "metadata": {},
   "outputs": [
    {
     "data": {
      "text/html": [
       "<div>\n",
       "<style scoped>\n",
       "    .dataframe tbody tr th:only-of-type {\n",
       "        vertical-align: middle;\n",
       "    }\n",
       "\n",
       "    .dataframe tbody tr th {\n",
       "        vertical-align: top;\n",
       "    }\n",
       "\n",
       "    .dataframe thead th {\n",
       "        text-align: right;\n",
       "    }\n",
       "</style>\n",
       "<table border=\"1\" class=\"dataframe\">\n",
       "  <thead>\n",
       "    <tr style=\"text-align: right;\">\n",
       "      <th></th>\n",
       "      <th>x0</th>\n",
       "      <th>y0</th>\n",
       "      <th>alpha1_0</th>\n",
       "      <th>alpha1_final</th>\n",
       "      <th>Сошелся</th>\n",
       "      <th>Число успешных шагов</th>\n",
       "    </tr>\n",
       "  </thead>\n",
       "  <tbody>\n",
       "    <tr>\n",
       "      <th>0</th>\n",
       "      <td>0</td>\n",
       "      <td>0</td>\n",
       "      <td>0.001</td>\n",
       "      <td>4.001</td>\n",
       "      <td>True</td>\n",
       "      <td>40000</td>\n",
       "    </tr>\n",
       "    <tr>\n",
       "      <th>1</th>\n",
       "      <td>1</td>\n",
       "      <td>0</td>\n",
       "      <td>0.001</td>\n",
       "      <td>0.142857</td>\n",
       "      <td>True</td>\n",
       "      <td>40000</td>\n",
       "    </tr>\n",
       "    <tr>\n",
       "      <th>2</th>\n",
       "      <td>0</td>\n",
       "      <td>2</td>\n",
       "      <td>0.001</td>\n",
       "      <td>4.001</td>\n",
       "      <td>True</td>\n",
       "      <td>40000</td>\n",
       "    </tr>\n",
       "    <tr>\n",
       "      <th>3</th>\n",
       "      <td>1</td>\n",
       "      <td>2</td>\n",
       "      <td>0.001</td>\n",
       "      <td>-5.46327e+211</td>\n",
       "      <td>False</td>\n",
       "      <td>7</td>\n",
       "    </tr>\n",
       "    <tr>\n",
       "      <th>4</th>\n",
       "      <td>0</td>\n",
       "      <td>4</td>\n",
       "      <td>0.001</td>\n",
       "      <td>4.001</td>\n",
       "      <td>True</td>\n",
       "      <td>40000</td>\n",
       "    </tr>\n",
       "    <tr>\n",
       "      <th>5</th>\n",
       "      <td>1</td>\n",
       "      <td>4</td>\n",
       "      <td>0.001</td>\n",
       "      <td>-8.48183e+229</td>\n",
       "      <td>False</td>\n",
       "      <td>7</td>\n",
       "    </tr>\n",
       "    <tr>\n",
       "      <th>6</th>\n",
       "      <td>0</td>\n",
       "      <td>6</td>\n",
       "      <td>0.001</td>\n",
       "      <td>4.001</td>\n",
       "      <td>True</td>\n",
       "      <td>40000</td>\n",
       "    </tr>\n",
       "    <tr>\n",
       "      <th>7</th>\n",
       "      <td>1</td>\n",
       "      <td>6</td>\n",
       "      <td>0.001</td>\n",
       "      <td>-1.65146e+240</td>\n",
       "      <td>False</td>\n",
       "      <td>7</td>\n",
       "    </tr>\n",
       "    <tr>\n",
       "      <th>8</th>\n",
       "      <td>0</td>\n",
       "      <td>8</td>\n",
       "      <td>0.001</td>\n",
       "      <td>4.001</td>\n",
       "      <td>True</td>\n",
       "      <td>40000</td>\n",
       "    </tr>\n",
       "    <tr>\n",
       "      <th>9</th>\n",
       "      <td>1</td>\n",
       "      <td>8</td>\n",
       "      <td>0.001</td>\n",
       "      <td>-1.73027e+247</td>\n",
       "      <td>False</td>\n",
       "      <td>7</td>\n",
       "    </tr>\n",
       "    <tr>\n",
       "      <th>10</th>\n",
       "      <td>0</td>\n",
       "      <td>10</td>\n",
       "      <td>0.001</td>\n",
       "      <td>4.001</td>\n",
       "      <td>True</td>\n",
       "      <td>40000</td>\n",
       "    </tr>\n",
       "    <tr>\n",
       "      <th>11</th>\n",
       "      <td>1</td>\n",
       "      <td>10</td>\n",
       "      <td>0.001</td>\n",
       "      <td>-2.73603e+252</td>\n",
       "      <td>False</td>\n",
       "      <td>7</td>\n",
       "    </tr>\n",
       "    <tr>\n",
       "      <th>12</th>\n",
       "      <td>0</td>\n",
       "      <td>12</td>\n",
       "      <td>0.001</td>\n",
       "      <td>4.001</td>\n",
       "      <td>True</td>\n",
       "      <td>40000</td>\n",
       "    </tr>\n",
       "    <tr>\n",
       "      <th>13</th>\n",
       "      <td>1</td>\n",
       "      <td>12</td>\n",
       "      <td>0.001</td>\n",
       "      <td>-2.85005e+256</td>\n",
       "      <td>False</td>\n",
       "      <td>7</td>\n",
       "    </tr>\n",
       "    <tr>\n",
       "      <th>14</th>\n",
       "      <td>0</td>\n",
       "      <td>14</td>\n",
       "      <td>0.001</td>\n",
       "      <td>4.001</td>\n",
       "      <td>True</td>\n",
       "      <td>40000</td>\n",
       "    </tr>\n",
       "    <tr>\n",
       "      <th>15</th>\n",
       "      <td>1</td>\n",
       "      <td>14</td>\n",
       "      <td>0.001</td>\n",
       "      <td>-4.23667e+259</td>\n",
       "      <td>False</td>\n",
       "      <td>7</td>\n",
       "    </tr>\n",
       "  </tbody>\n",
       "</table>\n",
       "</div>"
      ],
      "text/plain": [
       "   x0  y0 alpha1_0  alpha1_final Сошелся Число успешных шагов\n",
       "0   0   0    0.001         4.001    True                40000\n",
       "1   1   0    0.001      0.142857    True                40000\n",
       "2   0   2    0.001         4.001    True                40000\n",
       "3   1   2    0.001 -5.46327e+211   False                    7\n",
       "4   0   4    0.001         4.001    True                40000\n",
       "5   1   4    0.001 -8.48183e+229   False                    7\n",
       "6   0   6    0.001         4.001    True                40000\n",
       "7   1   6    0.001 -1.65146e+240   False                    7\n",
       "8   0   8    0.001         4.001    True                40000\n",
       "9   1   8    0.001 -1.73027e+247   False                    7\n",
       "10  0  10    0.001         4.001    True                40000\n",
       "11  1  10    0.001 -2.73603e+252   False                    7\n",
       "12  0  12    0.001         4.001    True                40000\n",
       "13  1  12    0.001 -2.85005e+256   False                    7\n",
       "14  0  14    0.001         4.001    True                40000\n",
       "15  1  14    0.001 -4.23667e+259   False                    7"
      ]
     },
     "execution_count": 12,
     "metadata": {},
     "output_type": "execute_result"
    }
   ],
   "source": [
    "Results['first'][1]"
   ]
  },
  {
   "cell_type": "markdown",
   "metadata": {},
   "source": [
    "Таким образом, все тесты разбились на три группы:\n",
    "\n",
    "1) Метод \"разошелся\"\n",
    "\n",
    "2) Метод сошелся и $\\alpha_{final} \\approx 0.14$ (при этом $x_0 \\neq 0, y_0 = 0$)\n",
    "\n",
    "3) Метод сошелся $\\alpha_{final} \\approx 4$ (при этом $x_0 = 0$)\n"
   ]
  },
  {
   "cell_type": "code",
   "execution_count": 13,
   "metadata": {},
   "outputs": [
    {
     "data": {
      "image/png": "[encoded data removed]",
      "text/plain": [
       "<Figure size 864x288 with 3 Axes>"
      ]
     },
     "metadata": {
      "needs_background": "light"
     },
     "output_type": "display_data"
    }
   ],
   "source": [
    "fig, ax = plt.subplots(1,3, figsize=(12,4), squeeze=False)\n",
    "History['first'][1][3].plot(ax=ax[0][0], x='Time', title='1. Метод разошелся')\n",
    "History['first'][1][1].plot(ax=ax[0][1], x='Time', title='2. Метод сошелся (x0!=0)')\n",
    "History['first'][1][8].plot(ax=ax[0][2], x='Time', title='3. Метод сошелся (x0=0)')\n",
    "\n",
    "fig.tight_layout()"
   ]
  },
  {
   "cell_type": "markdown",
   "metadata": {},
   "source": [
    "Во втором случае поведение Alpha1 похоже на логарифм. В третьем случае Alpha1(t) и Y(t) растут практически линейно."
   ]
  },
  {
   "cell_type": "markdown",
   "metadata": {},
   "source": [
    "Перейдем к решению последних __второй системы__ ОДУ тем же методом. Зададим сетку начальных значений:"
   ]
  },
  {
   "cell_type": "code",
   "execution_count": 61,
   "metadata": {},
   "outputs": [],
   "source": [
    "second_x_grid = np.arange(0,41,10)\n",
    "second_y_grid = np.arange(0,41,10)"
   ]
  },
  {
   "cell_type": "markdown",
   "metadata": {},
   "source": [
    "Запускаем тесты:"
   ]
  },
  {
   "cell_type": "code",
   "execution_count": 27,
   "metadata": {},
   "outputs": [
    {
     "name": "stdout",
     "output_type": "stream",
     "text": [
      "CPU times: user 11min 44s, sys: 5.37 s, total: 11min 49s\n",
      "Wall time: 11min 50s\n"
     ]
    }
   ],
   "source": [
    "%%time\n",
    "History['first'][2], Results['first'][2] = testing_method(Runge_Kutta_1, second_odu_function,\n",
    "                                                          second_x_grid, second_y_grid, alphas1=0.001, alphas2=10)"
   ]
  },
  {
   "cell_type": "code",
   "execution_count": 28,
   "metadata": {},
   "outputs": [
    {
     "data": {
      "text/html": [
       "<div>\n",
       "<style scoped>\n",
       "    .dataframe tbody tr th:only-of-type {\n",
       "        vertical-align: middle;\n",
       "    }\n",
       "\n",
       "    .dataframe tbody tr th {\n",
       "        vertical-align: top;\n",
       "    }\n",
       "\n",
       "    .dataframe thead th {\n",
       "        text-align: right;\n",
       "    }\n",
       "</style>\n",
       "<table border=\"1\" class=\"dataframe\">\n",
       "  <thead>\n",
       "    <tr style=\"text-align: right;\">\n",
       "      <th></th>\n",
       "      <th>x0</th>\n",
       "      <th>y0</th>\n",
       "      <th>alpha1_0</th>\n",
       "      <th>alpha2_0</th>\n",
       "      <th>alpha1_final</th>\n",
       "      <th>alpha2_final</th>\n",
       "      <th>Сошелся</th>\n",
       "      <th>Число успешных шагов</th>\n",
       "    </tr>\n",
       "  </thead>\n",
       "  <tbody>\n",
       "    <tr>\n",
       "      <th>0</th>\n",
       "      <td>0</td>\n",
       "      <td>0</td>\n",
       "      <td>0.001</td>\n",
       "      <td>10</td>\n",
       "      <td>4.001</td>\n",
       "      <td>14</td>\n",
       "      <td>True</td>\n",
       "      <td>40000</td>\n",
       "    </tr>\n",
       "    <tr>\n",
       "      <th>1</th>\n",
       "      <td>10</td>\n",
       "      <td>0</td>\n",
       "      <td>0.001</td>\n",
       "      <td>10</td>\n",
       "      <td>4.001</td>\n",
       "      <td>4.72343e+17</td>\n",
       "      <td>True</td>\n",
       "      <td>40000</td>\n",
       "    </tr>\n",
       "    <tr>\n",
       "      <th>2</th>\n",
       "      <td>20</td>\n",
       "      <td>0</td>\n",
       "      <td>0.001</td>\n",
       "      <td>10</td>\n",
       "      <td>4.001</td>\n",
       "      <td>4.18201e+19</td>\n",
       "      <td>True</td>\n",
       "      <td>40000</td>\n",
       "    </tr>\n",
       "    <tr>\n",
       "      <th>3</th>\n",
       "      <td>30</td>\n",
       "      <td>0</td>\n",
       "      <td>0.001</td>\n",
       "      <td>10</td>\n",
       "      <td>4.001</td>\n",
       "      <td>1.42618e+18</td>\n",
       "      <td>True</td>\n",
       "      <td>40000</td>\n",
       "    </tr>\n",
       "    <tr>\n",
       "      <th>4</th>\n",
       "      <td>40</td>\n",
       "      <td>0</td>\n",
       "      <td>0.001</td>\n",
       "      <td>10</td>\n",
       "      <td>4.001</td>\n",
       "      <td>0.800047</td>\n",
       "      <td>True</td>\n",
       "      <td>40000</td>\n",
       "    </tr>\n",
       "    <tr>\n",
       "      <th>5</th>\n",
       "      <td>0</td>\n",
       "      <td>10</td>\n",
       "      <td>0.001</td>\n",
       "      <td>10</td>\n",
       "      <td>2.27967</td>\n",
       "      <td>14</td>\n",
       "      <td>True</td>\n",
       "      <td>40000</td>\n",
       "    </tr>\n",
       "    <tr>\n",
       "      <th>10</th>\n",
       "      <td>0</td>\n",
       "      <td>20</td>\n",
       "      <td>0.001</td>\n",
       "      <td>10</td>\n",
       "      <td>2.27967</td>\n",
       "      <td>14</td>\n",
       "      <td>True</td>\n",
       "      <td>40000</td>\n",
       "    </tr>\n",
       "    <tr>\n",
       "      <th>15</th>\n",
       "      <td>0</td>\n",
       "      <td>30</td>\n",
       "      <td>0.001</td>\n",
       "      <td>10</td>\n",
       "      <td>2.27967</td>\n",
       "      <td>14</td>\n",
       "      <td>True</td>\n",
       "      <td>40000</td>\n",
       "    </tr>\n",
       "    <tr>\n",
       "      <th>20</th>\n",
       "      <td>0</td>\n",
       "      <td>40</td>\n",
       "      <td>0.001</td>\n",
       "      <td>10</td>\n",
       "      <td>2.27967</td>\n",
       "      <td>14</td>\n",
       "      <td>True</td>\n",
       "      <td>40000</td>\n",
       "    </tr>\n",
       "  </tbody>\n",
       "</table>\n",
       "</div>"
      ],
      "text/plain": [
       "    x0  y0 alpha1_0 alpha2_0 alpha1_final alpha2_final Сошелся  \\\n",
       "0    0   0    0.001       10        4.001           14    True   \n",
       "1   10   0    0.001       10        4.001  4.72343e+17    True   \n",
       "2   20   0    0.001       10        4.001  4.18201e+19    True   \n",
       "3   30   0    0.001       10        4.001  1.42618e+18    True   \n",
       "4   40   0    0.001       10        4.001     0.800047    True   \n",
       "5    0  10    0.001       10      2.27967           14    True   \n",
       "10   0  20    0.001       10      2.27967           14    True   \n",
       "15   0  30    0.001       10      2.27967           14    True   \n",
       "20   0  40    0.001       10      2.27967           14    True   \n",
       "\n",
       "   Число успешных шагов  \n",
       "0                 40000  \n",
       "1                 40000  \n",
       "2                 40000  \n",
       "3                 40000  \n",
       "4                 40000  \n",
       "5                 40000  \n",
       "10                40000  \n",
       "15                40000  \n",
       "20                40000  "
      ]
     },
     "execution_count": 28,
     "metadata": {},
     "output_type": "execute_result"
    }
   ],
   "source": [
    "Results['first'][2][Results['first'][2]['Сошелся']]"
   ]
  },
  {
   "cell_type": "code",
   "execution_count": 29,
   "metadata": {
    "scrolled": true
   },
   "outputs": [
    {
     "name": "stdout",
     "output_type": "stream",
     "text": [
      "Из 25 попыток в итоге сошлись 9\n"
     ]
    }
   ],
   "source": [
    "print('Из {} попыток в итоге сошлись {}'.format(len(Results['first'][2]), np.count_nonzero(Results['first'][2]['Сошелся'])))"
   ]
  },
  {
   "cell_type": "markdown",
   "metadata": {},
   "source": [
    "Причем сошлись лишь те, где одно из начальных значений 0. У нас снова три группы тестов:\n",
    "\n",
    "1) Метод \"разошелся\"\n",
    "\n",
    "2) Метод сошелся и $\\alpha_{1,final} \\approx 4$, причем $y_0=0$ (однако, $\\alpha_{2,final}$ - разные)\n",
    "\n",
    "3) Метод сошелся и $\\alpha_{1,final} \\approx 2.4$,причем $x_0=0, y_0 \\neq 0$"
   ]
  },
  {
   "cell_type": "code",
   "execution_count": 33,
   "metadata": {},
   "outputs": [
    {
     "data": {
      "image/png": "[encoded data removed]",
      "text/plain": [
       "<Figure size 864x288 with 3 Axes>"
      ]
     },
     "metadata": {
      "needs_background": "light"
     },
     "output_type": "display_data"
    }
   ],
   "source": [
    "fig, ax = plt.subplots(1,3, figsize=(12,4), squeeze=False)\n",
    "History['first'][2][17].plot(ax=ax[0][0], x='Time', title='1. Метод разошелся')\n",
    "History['first'][2][4].plot(ax=ax[0][1], x='Time', title='2. Метод сошелся (y0=0)')\n",
    "History['first'][2][20].plot(ax=ax[0][2], x='Time', title='3. Метод сошелся (x0=0)')\n",
    "\n",
    "fig.tight_layout()"
   ]
  },
  {
   "cell_type": "markdown",
   "metadata": {},
   "source": [
    "Во втором случае нас сначало поколбасило, потом метод \"успокоился\". В третьем случае просходило что-то похожее на правду."
   ]
  },
  {
   "cell_type": "markdown",
   "metadata": {},
   "source": [
    "Сетку для __третьей системы__ ОДУ берем ту же."
   ]
  },
  {
   "cell_type": "code",
   "execution_count": 51,
   "metadata": {},
   "outputs": [],
   "source": [
    "third_x_grid = np.arange(0,41,10)\n",
    "third_y_grid = np.arange(0,41,10)"
   ]
  },
  {
   "cell_type": "code",
   "execution_count": 57,
   "metadata": {
    "scrolled": true
   },
   "outputs": [
    {
     "name": "stdout",
     "output_type": "stream",
     "text": [
      "CPU times: user 6min 55s, sys: 2.69 s, total: 6min 58s\n",
      "Wall time: 6min 58s\n"
     ]
    }
   ],
   "source": [
    "%%time\n",
    "History['first'][3], Results['first'][3] = testing_method(Runge_Kutta_1, third_odu_function,\n",
    "                                                          third_x_grid, third_y_grid, alphas1=0.001, alphas2=10)"
   ]
  },
  {
   "cell_type": "code",
   "execution_count": 58,
   "metadata": {},
   "outputs": [
    {
     "data": {
      "text/html": [
       "<div>\n",
       "<style scoped>\n",
       "    .dataframe tbody tr th:only-of-type {\n",
       "        vertical-align: middle;\n",
       "    }\n",
       "\n",
       "    .dataframe tbody tr th {\n",
       "        vertical-align: top;\n",
       "    }\n",
       "\n",
       "    .dataframe thead th {\n",
       "        text-align: right;\n",
       "    }\n",
       "</style>\n",
       "<table border=\"1\" class=\"dataframe\">\n",
       "  <thead>\n",
       "    <tr style=\"text-align: right;\">\n",
       "      <th></th>\n",
       "      <th>x0</th>\n",
       "      <th>y0</th>\n",
       "      <th>alpha1_0</th>\n",
       "      <th>alpha2_0</th>\n",
       "      <th>alpha1_final</th>\n",
       "      <th>alpha2_final</th>\n",
       "      <th>Сошелся</th>\n",
       "      <th>Число успешных шагов</th>\n",
       "    </tr>\n",
       "  </thead>\n",
       "  <tbody>\n",
       "    <tr>\n",
       "      <th>0</th>\n",
       "      <td>0</td>\n",
       "      <td>0</td>\n",
       "      <td>0.001</td>\n",
       "      <td>10</td>\n",
       "      <td>0.401</td>\n",
       "      <td>10.4</td>\n",
       "      <td>True</td>\n",
       "      <td>40000</td>\n",
       "    </tr>\n",
       "    <tr>\n",
       "      <th>5</th>\n",
       "      <td>0</td>\n",
       "      <td>10</td>\n",
       "      <td>0.001</td>\n",
       "      <td>10</td>\n",
       "      <td>0.399789</td>\n",
       "      <td>10.4</td>\n",
       "      <td>True</td>\n",
       "      <td>40000</td>\n",
       "    </tr>\n",
       "    <tr>\n",
       "      <th>10</th>\n",
       "      <td>0</td>\n",
       "      <td>20</td>\n",
       "      <td>0.001</td>\n",
       "      <td>10</td>\n",
       "      <td>0.399789</td>\n",
       "      <td>10.4</td>\n",
       "      <td>True</td>\n",
       "      <td>40000</td>\n",
       "    </tr>\n",
       "    <tr>\n",
       "      <th>15</th>\n",
       "      <td>0</td>\n",
       "      <td>30</td>\n",
       "      <td>0.001</td>\n",
       "      <td>10</td>\n",
       "      <td>0.399789</td>\n",
       "      <td>10.4</td>\n",
       "      <td>True</td>\n",
       "      <td>40000</td>\n",
       "    </tr>\n",
       "    <tr>\n",
       "      <th>20</th>\n",
       "      <td>0</td>\n",
       "      <td>40</td>\n",
       "      <td>0.001</td>\n",
       "      <td>10</td>\n",
       "      <td>0.399789</td>\n",
       "      <td>10.4</td>\n",
       "      <td>True</td>\n",
       "      <td>40000</td>\n",
       "    </tr>\n",
       "  </tbody>\n",
       "</table>\n",
       "</div>"
      ],
      "text/plain": [
       "   x0  y0 alpha1_0 alpha2_0 alpha1_final alpha2_final Сошелся  \\\n",
       "0   0   0    0.001       10        0.401         10.4    True   \n",
       "5   0  10    0.001       10     0.399789         10.4    True   \n",
       "10  0  20    0.001       10     0.399789         10.4    True   \n",
       "15  0  30    0.001       10     0.399789         10.4    True   \n",
       "20  0  40    0.001       10     0.399789         10.4    True   \n",
       "\n",
       "   Число успешных шагов  \n",
       "0                 40000  \n",
       "5                 40000  \n",
       "10                40000  \n",
       "15                40000  \n",
       "20                40000  "
      ]
     },
     "execution_count": 58,
     "metadata": {},
     "output_type": "execute_result"
    }
   ],
   "source": [
    "Results['first'][3][Results['first'][3]['Сошелся']]"
   ]
  },
  {
   "cell_type": "code",
   "execution_count": 38,
   "metadata": {
    "scrolled": false
   },
   "outputs": [
    {
     "name": "stdout",
     "output_type": "stream",
     "text": [
      "Из 25 попыток в итоге сошлись 5\n"
     ]
    }
   ],
   "source": [
    "print('Из {} попыток в итоге сошлись {}'.format(len(Results['first'][3]), np.count_nonzero(Results['first'][3]['Сошелся'])))"
   ]
  },
  {
   "cell_type": "markdown",
   "metadata": {},
   "source": [
    "У нас снова три группы тестов:\n",
    "\n",
    "1) Метод \"разошелся\"\n",
    "\n",
    "2) Метод сошелся и $\\alpha_{1,final} \\approx 0.401$, $\\alpha_{2,final} \\approx 10.4$, причем $x_0=0, y_0=0$\n",
    "\n",
    "3) Метод сошелся и $\\alpha_{1,final} \\approx 0.399$, $\\alpha_{2,final} \\approx 10.4$, причем $x_0=0, y_0 \\neq 0$"
   ]
  },
  {
   "cell_type": "code",
   "execution_count": 39,
   "metadata": {},
   "outputs": [
    {
     "data": {
      "image/png": "[encoded data removed]",
      "text/plain": [
       "<Figure size 864x288 with 3 Axes>"
      ]
     },
     "metadata": {
      "needs_background": "light"
     },
     "output_type": "display_data"
    }
   ],
   "source": [
    "fig, ax = plt.subplots(1,3, figsize=(12,4), squeeze=False)\n",
    "History['first'][3][17].plot(ax=ax[0][0], x='Time', title='1. Метод разошелся')\n",
    "History['first'][3][0].plot(ax=ax[0][1], x='Time', title='2. Метод сошелся (x_0=0, y_0=0)')\n",
    "History['first'][3][20].plot(ax=ax[0][2], x='Time', title='3. Метод сошелся (x_0=0, y_0!=0)')\n",
    "\n",
    "fig.tight_layout()"
   ]
  },
  {
   "cell_type": "markdown",
   "metadata": {},
   "source": [
    "__Вывод относительно метода__: метод Рунге-Кутты первого порядка, по-видимому, не очень хорош для решения этой задачи. Ну чтож, попробуем другой.\n"
   ]
  },
  {
   "cell_type": "markdown",
   "metadata": {},
   "source": [
    "## <a id=3> Явный метод Рунге-Кутты четвертого порядка </a>"
   ]
  },
  {
   "cell_type": "markdown",
   "metadata": {},
   "source": [
    "__Схема метода__\n",
    "\n",
    "Чтобы решить систему ОДУ вида:\n",
    "$$\\overset{.}{\\overline{z}}=\\overline{f}(t,\\overline{z})$$\n",
    "На каждом шаге сетки i (с размером шага h) мы находим очередное значение целового вектора функций (в случае системы) следующим образом:\n",
    "\n",
    "1) Сначала вычисляем промежуточные вспомогательные значения $k_1, k_2, k_3, k_4$:\n",
    "\n",
    "$\\overline{k}_1 = \\overline{f}(t_i, \\overline{z}_i)$\n",
    "\n",
    "$\\overline{k}_2 = \\overline{f}(t_i+\\frac{h}{2}, \\overline{z}_i+\\frac{h}{2}\\overline{k}_1)$\n",
    "\n",
    "$\\overline{k}_3 = \\overline{f}(t_i+\\frac{h}{2}, \\overline{z}_i+\\frac{h}{2}\\overline{k}_2)$\n",
    "\n",
    "$\\overline{k}_4 = \\overline{f}(t_i+h, \\overline{z}_i+h\\overline{k}_3)$\n",
    "\n",
    "2) Затем делаем шаг:\n",
    "\n",
    "$\\overline{z}_{i+1} = \\overline{z}_{i} + \\frac{h}{6}f(\\overline{k}_1+2\\overline{k}_3+2\\overline{k}_3+\\overline{k}_4)$"
   ]
  },
  {
   "cell_type": "markdown",
   "metadata": {},
   "source": [
    "Реализация метода согласно приведенному выше описанию:"
   ]
  },
  {
   "cell_type": "code",
   "execution_count": 65,
   "metadata": {},
   "outputs": [],
   "source": [
    "def Runge_Kutta_4(fun, z0, eps=1e-3, T=2000, h=0.05, error_info=False):\n",
    "    \"\"\"\n",
    "    Fourth-order Runge-Kutta method.\n",
    "    \n",
    "    Parametres:\n",
    "    fun: function, that corresponds the ODU system\n",
    "    z0 - initial values\n",
    "    eps - the system parameter (by default 1e-3)\n",
    "    T - the time bound (2000 by default)\n",
    "    h - the step size (0.05 by default)\n",
    "    error_info - bool (true by default), whether show info of method errors or not\n",
    "    \n",
    "    Returns:\n",
    "    History of method working.\n",
    "    \n",
    "    \"\"\"\n",
    "    N = int(T/h) # steps\n",
    "    columns=['Time', 'X', 'Y']+['Alpha'+str(i+1) for i in range(len(z0)-2)]\n",
    "    history = pd.DataFrame([np.append([0],z0)], columns=columns)\n",
    "    \n",
    "    for i in range(1,N+1):\n",
    "        try:\n",
    "            t = history.iloc[i-1]['Time']\n",
    "            t_new = t + h\n",
    "            k1 = fun(t=t, values=history.iloc[i-1]['X':])\n",
    "            k2 = fun(t=t+h/2, values=(history.iloc[i-1]['X':]+h*k1/2))\n",
    "            k3 = fun(t=t+h/2, values=(history.iloc[i-1]['X':]+h*k2/2))\n",
    "            k4 = fun(t=t+h, values=(history.iloc[i-1]['X':]+h*k3))\n",
    "            f_new = history.iloc[i-1]['X':] + h*(k1+2*k2+2*k3+k4)/6\n",
    "            history.loc[i,'Time'] = t_new\n",
    "            history.loc[i]['X':] = f_new\n",
    "        except ArithmeticError:\n",
    "            if error_info:\n",
    "                print('Метод разошелся после {} шагов!('.format(i))\n",
    "            return history\n",
    "        if history.iloc[i-1].isna().any():\n",
    "            if error_info:\n",
    "                print('Метод разошелся после {} шагов!('.format(i))\n",
    "            return history\n",
    "    return history"
   ]
  },
  {
   "cell_type": "markdown",
   "metadata": {},
   "source": [
    "Перейдем к решению систем. Начнем с __первой__. Сетку берем ту же."
   ]
  },
  {
   "cell_type": "code",
   "execution_count": 43,
   "metadata": {},
   "outputs": [
    {
     "name": "stdout",
     "output_type": "stream",
     "text": [
      "CPU times: user 15min 39s, sys: 3 s, total: 15min 42s\n",
      "Wall time: 15min 43s\n"
     ]
    }
   ],
   "source": [
    "%%time\n",
    "History['fourth'][1], Results['fourth'][1] = testing_method(Runge_Kutta_4, first_odu_function,\n",
    "                                                          first_x_grid, first_y_grid, alphas1=0.001)"
   ]
  },
  {
   "cell_type": "code",
   "execution_count": 44,
   "metadata": {},
   "outputs": [
    {
     "data": {
      "text/html": [
       "<div>\n",
       "<style scoped>\n",
       "    .dataframe tbody tr th:only-of-type {\n",
       "        vertical-align: middle;\n",
       "    }\n",
       "\n",
       "    .dataframe tbody tr th {\n",
       "        vertical-align: top;\n",
       "    }\n",
       "\n",
       "    .dataframe thead th {\n",
       "        text-align: right;\n",
       "    }\n",
       "</style>\n",
       "<table border=\"1\" class=\"dataframe\">\n",
       "  <thead>\n",
       "    <tr style=\"text-align: right;\">\n",
       "      <th></th>\n",
       "      <th>x0</th>\n",
       "      <th>y0</th>\n",
       "      <th>alpha1_0</th>\n",
       "      <th>alpha1_final</th>\n",
       "      <th>Сошелся</th>\n",
       "      <th>Число успешных шагов</th>\n",
       "    </tr>\n",
       "  </thead>\n",
       "  <tbody>\n",
       "    <tr>\n",
       "      <th>0</th>\n",
       "      <td>0</td>\n",
       "      <td>0</td>\n",
       "      <td>0.001</td>\n",
       "      <td>4.001</td>\n",
       "      <td>True</td>\n",
       "      <td>40000</td>\n",
       "    </tr>\n",
       "    <tr>\n",
       "      <th>1</th>\n",
       "      <td>1</td>\n",
       "      <td>0</td>\n",
       "      <td>0.001</td>\n",
       "      <td>0.142857</td>\n",
       "      <td>True</td>\n",
       "      <td>40000</td>\n",
       "    </tr>\n",
       "    <tr>\n",
       "      <th>2</th>\n",
       "      <td>0</td>\n",
       "      <td>2</td>\n",
       "      <td>0.001</td>\n",
       "      <td>4.001</td>\n",
       "      <td>True</td>\n",
       "      <td>40000</td>\n",
       "    </tr>\n",
       "    <tr>\n",
       "      <th>4</th>\n",
       "      <td>0</td>\n",
       "      <td>4</td>\n",
       "      <td>0.001</td>\n",
       "      <td>4.001</td>\n",
       "      <td>True</td>\n",
       "      <td>40000</td>\n",
       "    </tr>\n",
       "    <tr>\n",
       "      <th>6</th>\n",
       "      <td>0</td>\n",
       "      <td>6</td>\n",
       "      <td>0.001</td>\n",
       "      <td>4.001</td>\n",
       "      <td>True</td>\n",
       "      <td>40000</td>\n",
       "    </tr>\n",
       "    <tr>\n",
       "      <th>8</th>\n",
       "      <td>0</td>\n",
       "      <td>8</td>\n",
       "      <td>0.001</td>\n",
       "      <td>4.001</td>\n",
       "      <td>True</td>\n",
       "      <td>40000</td>\n",
       "    </tr>\n",
       "    <tr>\n",
       "      <th>10</th>\n",
       "      <td>0</td>\n",
       "      <td>10</td>\n",
       "      <td>0.001</td>\n",
       "      <td>4.001</td>\n",
       "      <td>True</td>\n",
       "      <td>40000</td>\n",
       "    </tr>\n",
       "    <tr>\n",
       "      <th>12</th>\n",
       "      <td>0</td>\n",
       "      <td>12</td>\n",
       "      <td>0.001</td>\n",
       "      <td>4.001</td>\n",
       "      <td>True</td>\n",
       "      <td>40000</td>\n",
       "    </tr>\n",
       "    <tr>\n",
       "      <th>14</th>\n",
       "      <td>0</td>\n",
       "      <td>14</td>\n",
       "      <td>0.001</td>\n",
       "      <td>4.001</td>\n",
       "      <td>True</td>\n",
       "      <td>40000</td>\n",
       "    </tr>\n",
       "  </tbody>\n",
       "</table>\n",
       "</div>"
      ],
      "text/plain": [
       "   x0  y0 alpha1_0 alpha1_final Сошелся Число успешных шагов\n",
       "0   0   0    0.001        4.001    True                40000\n",
       "1   1   0    0.001     0.142857    True                40000\n",
       "2   0   2    0.001        4.001    True                40000\n",
       "4   0   4    0.001        4.001    True                40000\n",
       "6   0   6    0.001        4.001    True                40000\n",
       "8   0   8    0.001        4.001    True                40000\n",
       "10  0  10    0.001        4.001    True                40000\n",
       "12  0  12    0.001        4.001    True                40000\n",
       "14  0  14    0.001        4.001    True                40000"
      ]
     },
     "execution_count": 44,
     "metadata": {},
     "output_type": "execute_result"
    }
   ],
   "source": [
    "Results['fourth'][1][Results['fourth'][1]['Сошелся']]"
   ]
  },
  {
   "cell_type": "code",
   "execution_count": 45,
   "metadata": {
    "scrolled": false
   },
   "outputs": [
    {
     "name": "stdout",
     "output_type": "stream",
     "text": [
      "Из 16 попыток в итоге сошлись 9\n"
     ]
    }
   ],
   "source": [
    "print('Из {} попыток в итоге сошлись {}'.format(len(Results['fourth'][1]), np.count_nonzero(Results['fourth'][1]['Сошелся'])))"
   ]
  },
  {
   "cell_type": "markdown",
   "metadata": {},
   "source": [
    "Сошлись абсолютно те же случаи, что и в прошлый раз."
   ]
  },
  {
   "cell_type": "markdown",
   "metadata": {},
   "source": [
    "И нас снова три группы тестов:\n",
    "\n",
    "1) Метод \"разошелся\"\n",
    "\n",
    "2) Метод сошелся и $\\alpha_{1,final} \\approx 4$, причем $x_0=0$\n",
    "\n",
    "3) Метод сошелся и $\\alpha_{1,final} \\approx 0.14$,причем $x_0 \\neq 0, y_0 = 0 $"
   ]
  },
  {
   "cell_type": "code",
   "execution_count": 49,
   "metadata": {},
   "outputs": [
    {
     "data": {
      "image/png": "[encoded data removed]",
      "text/plain": [
       "<Figure size 864x288 with 3 Axes>"
      ]
     },
     "metadata": {
      "needs_background": "light"
     },
     "output_type": "display_data"
    }
   ],
   "source": [
    "fig, ax = plt.subplots(1,3, figsize=(12,4), squeeze=False)\n",
    "History['fourth'][1][15].plot(ax=ax[0][0], x='Time', title='1. Метод разошелся')\n",
    "History['fourth'][1][1].plot(ax=ax[0][1], x='Time', title='2. Метод сошелся (x_0=0, y_0=0)')\n",
    "History['fourth'][1][8].plot(ax=ax[0][2], x='Time', title='3. Метод сошелся (x_0=0, y_0!=0)')\n",
    "\n",
    "fig.tight_layout()"
   ]
  },
  {
   "cell_type": "markdown",
   "metadata": {},
   "source": [
    "Картинки похожи на случай с методом первого порядка."
   ]
  },
  {
   "cell_type": "markdown",
   "metadata": {},
   "source": [
    "Теперь __вторая система__:"
   ]
  },
  {
   "cell_type": "code",
   "execution_count": 46,
   "metadata": {},
   "outputs": [
    {
     "name": "stdout",
     "output_type": "stream",
     "text": [
      "CPU times: user 15min 25s, sys: 3.33 s, total: 15min 28s\n",
      "Wall time: 15min 28s\n"
     ]
    }
   ],
   "source": [
    "%%time\n",
    "History['fourth'][2], Results['fourth'][2] = testing_method(Runge_Kutta_4, second_odu_function,\n",
    "                                                          second_x_grid, second_y_grid, alphas1=0.001, alphas2=10)"
   ]
  },
  {
   "cell_type": "code",
   "execution_count": 47,
   "metadata": {},
   "outputs": [
    {
     "data": {
      "text/html": [
       "<div>\n",
       "<style scoped>\n",
       "    .dataframe tbody tr th:only-of-type {\n",
       "        vertical-align: middle;\n",
       "    }\n",
       "\n",
       "    .dataframe tbody tr th {\n",
       "        vertical-align: top;\n",
       "    }\n",
       "\n",
       "    .dataframe thead th {\n",
       "        text-align: right;\n",
       "    }\n",
       "</style>\n",
       "<table border=\"1\" class=\"dataframe\">\n",
       "  <thead>\n",
       "    <tr style=\"text-align: right;\">\n",
       "      <th></th>\n",
       "      <th>x0</th>\n",
       "      <th>y0</th>\n",
       "      <th>alpha1_0</th>\n",
       "      <th>alpha2_0</th>\n",
       "      <th>alpha1_final</th>\n",
       "      <th>alpha2_final</th>\n",
       "      <th>Сошелся</th>\n",
       "      <th>Число успешных шагов</th>\n",
       "    </tr>\n",
       "  </thead>\n",
       "  <tbody>\n",
       "    <tr>\n",
       "      <th>0</th>\n",
       "      <td>0</td>\n",
       "      <td>0</td>\n",
       "      <td>0.001</td>\n",
       "      <td>10</td>\n",
       "      <td>4.001</td>\n",
       "      <td>14</td>\n",
       "      <td>True</td>\n",
       "      <td>40000</td>\n",
       "    </tr>\n",
       "    <tr>\n",
       "      <th>5</th>\n",
       "      <td>0</td>\n",
       "      <td>10</td>\n",
       "      <td>0.001</td>\n",
       "      <td>10</td>\n",
       "      <td>2.27965</td>\n",
       "      <td>14</td>\n",
       "      <td>True</td>\n",
       "      <td>40000</td>\n",
       "    </tr>\n",
       "    <tr>\n",
       "      <th>10</th>\n",
       "      <td>0</td>\n",
       "      <td>20</td>\n",
       "      <td>0.001</td>\n",
       "      <td>10</td>\n",
       "      <td>2.27965</td>\n",
       "      <td>14</td>\n",
       "      <td>True</td>\n",
       "      <td>40000</td>\n",
       "    </tr>\n",
       "    <tr>\n",
       "      <th>15</th>\n",
       "      <td>0</td>\n",
       "      <td>30</td>\n",
       "      <td>0.001</td>\n",
       "      <td>10</td>\n",
       "      <td>2.27965</td>\n",
       "      <td>14</td>\n",
       "      <td>True</td>\n",
       "      <td>40000</td>\n",
       "    </tr>\n",
       "    <tr>\n",
       "      <th>20</th>\n",
       "      <td>0</td>\n",
       "      <td>40</td>\n",
       "      <td>0.001</td>\n",
       "      <td>10</td>\n",
       "      <td>2.27965</td>\n",
       "      <td>14</td>\n",
       "      <td>True</td>\n",
       "      <td>40000</td>\n",
       "    </tr>\n",
       "  </tbody>\n",
       "</table>\n",
       "</div>"
      ],
      "text/plain": [
       "   x0  y0 alpha1_0 alpha2_0 alpha1_final alpha2_final Сошелся  \\\n",
       "0   0   0    0.001       10        4.001           14    True   \n",
       "5   0  10    0.001       10      2.27965           14    True   \n",
       "10  0  20    0.001       10      2.27965           14    True   \n",
       "15  0  30    0.001       10      2.27965           14    True   \n",
       "20  0  40    0.001       10      2.27965           14    True   \n",
       "\n",
       "   Число успешных шагов  \n",
       "0                 40000  \n",
       "5                 40000  \n",
       "10                40000  \n",
       "15                40000  \n",
       "20                40000  "
      ]
     },
     "execution_count": 47,
     "metadata": {},
     "output_type": "execute_result"
    }
   ],
   "source": [
    "Results['fourth'][2][Results['fourth'][2]['Сошелся']]"
   ]
  },
  {
   "cell_type": "code",
   "execution_count": 48,
   "metadata": {
    "scrolled": false
   },
   "outputs": [
    {
     "name": "stdout",
     "output_type": "stream",
     "text": [
      "Из 25 попыток в итоге сошлись 5\n"
     ]
    }
   ],
   "source": [
    "print('Из {} попыток в итоге сошлись {}'.format(len(Results['fourth'][2]), np.count_nonzero(Results['fourth'][2]['Сошелся'])))"
   ]
  },
  {
   "cell_type": "markdown",
   "metadata": {},
   "source": [
    "В этот раз что-то отличается."
   ]
  },
  {
   "cell_type": "markdown",
   "metadata": {},
   "source": [
    "Три группы тестов:\n",
    "\n",
    "1) Метод \"разошелся\"\n",
    "\n",
    "2) Метод сошелся и $\\alpha_{1,final} \\approx 4$, $\\alpha_{2,final} \\approx 14$, причем $x_0=0,y_0=0$\n",
    "\n",
    "3) Метод сошелся и $\\alpha_{1,final} \\approx 2.27$, $\\alpha_{2,final} \\approx 14$,причем $x_0 = 0, y_0 \\neq 0 $"
   ]
  },
  {
   "cell_type": "code",
   "execution_count": 50,
   "metadata": {
    "scrolled": true
   },
   "outputs": [
    {
     "data": {
      "image/png": "[encoded data removed]",
      "text/plain": [
       "<Figure size 864x288 with 3 Axes>"
      ]
     },
     "metadata": {
      "needs_background": "light"
     },
     "output_type": "display_data"
    }
   ],
   "source": [
    "fig, ax = plt.subplots(1,3, figsize=(12,4), squeeze=False)\n",
    "History['fourth'][2][17].plot(ax=ax[0][0], x='Time', title='1. Метод разошелся')\n",
    "History['fourth'][2][0].plot(ax=ax[0][1], x='Time', title='2. Метод сошелся (x_0=0, y_0=0)')\n",
    "History['fourth'][2][15].plot(ax=ax[0][2], x='Time', title='3. Метод сошелся (x_0=0, y_0!=0)')\n",
    "\n",
    "fig.tight_layout()"
   ]
  },
  {
   "cell_type": "markdown",
   "metadata": {},
   "source": [
    "И снова похожие с методом 1го порядка резульаты."
   ]
  },
  {
   "cell_type": "markdown",
   "metadata": {},
   "source": [
    "Теперь рассматриваем __третью систему__."
   ]
  },
  {
   "cell_type": "code",
   "execution_count": 66,
   "metadata": {},
   "outputs": [
    {
     "name": "stdout",
     "output_type": "stream",
     "text": [
      "CPU times: user 10min 3s, sys: 2.53 s, total: 10min 6s\n",
      "Wall time: 10min 6s\n"
     ]
    }
   ],
   "source": [
    "%%time\n",
    "History['fourth'][3], Results['fourth'][3] = testing_method(Runge_Kutta_4, third_odu_function,\n",
    "                                                          third_x_grid, third_y_grid, alphas1=0.001, alphas2=10)"
   ]
  },
  {
   "cell_type": "code",
   "execution_count": 67,
   "metadata": {},
   "outputs": [
    {
     "data": {
      "text/html": [
       "<div>\n",
       "<style scoped>\n",
       "    .dataframe tbody tr th:only-of-type {\n",
       "        vertical-align: middle;\n",
       "    }\n",
       "\n",
       "    .dataframe tbody tr th {\n",
       "        vertical-align: top;\n",
       "    }\n",
       "\n",
       "    .dataframe thead th {\n",
       "        text-align: right;\n",
       "    }\n",
       "</style>\n",
       "<table border=\"1\" class=\"dataframe\">\n",
       "  <thead>\n",
       "    <tr style=\"text-align: right;\">\n",
       "      <th></th>\n",
       "      <th>x0</th>\n",
       "      <th>y0</th>\n",
       "      <th>alpha1_0</th>\n",
       "      <th>alpha2_0</th>\n",
       "      <th>alpha1_final</th>\n",
       "      <th>alpha2_final</th>\n",
       "      <th>Сошелся</th>\n",
       "      <th>Число успешных шагов</th>\n",
       "    </tr>\n",
       "  </thead>\n",
       "  <tbody>\n",
       "    <tr>\n",
       "      <th>0</th>\n",
       "      <td>0</td>\n",
       "      <td>0</td>\n",
       "      <td>0.001</td>\n",
       "      <td>10</td>\n",
       "      <td>0.401</td>\n",
       "      <td>10.4</td>\n",
       "      <td>True</td>\n",
       "      <td>40000</td>\n",
       "    </tr>\n",
       "    <tr>\n",
       "      <th>5</th>\n",
       "      <td>0</td>\n",
       "      <td>10</td>\n",
       "      <td>0.001</td>\n",
       "      <td>10</td>\n",
       "      <td>0.399789</td>\n",
       "      <td>10.4</td>\n",
       "      <td>True</td>\n",
       "      <td>40000</td>\n",
       "    </tr>\n",
       "    <tr>\n",
       "      <th>10</th>\n",
       "      <td>0</td>\n",
       "      <td>20</td>\n",
       "      <td>0.001</td>\n",
       "      <td>10</td>\n",
       "      <td>0.399789</td>\n",
       "      <td>10.4</td>\n",
       "      <td>True</td>\n",
       "      <td>40000</td>\n",
       "    </tr>\n",
       "    <tr>\n",
       "      <th>15</th>\n",
       "      <td>0</td>\n",
       "      <td>30</td>\n",
       "      <td>0.001</td>\n",
       "      <td>10</td>\n",
       "      <td>0.399789</td>\n",
       "      <td>10.4</td>\n",
       "      <td>True</td>\n",
       "      <td>40000</td>\n",
       "    </tr>\n",
       "    <tr>\n",
       "      <th>20</th>\n",
       "      <td>0</td>\n",
       "      <td>40</td>\n",
       "      <td>0.001</td>\n",
       "      <td>10</td>\n",
       "      <td>0.399789</td>\n",
       "      <td>10.4</td>\n",
       "      <td>True</td>\n",
       "      <td>40000</td>\n",
       "    </tr>\n",
       "  </tbody>\n",
       "</table>\n",
       "</div>"
      ],
      "text/plain": [
       "   x0  y0 alpha1_0 alpha2_0 alpha1_final alpha2_final Сошелся  \\\n",
       "0   0   0    0.001       10        0.401         10.4    True   \n",
       "5   0  10    0.001       10     0.399789         10.4    True   \n",
       "10  0  20    0.001       10     0.399789         10.4    True   \n",
       "15  0  30    0.001       10     0.399789         10.4    True   \n",
       "20  0  40    0.001       10     0.399789         10.4    True   \n",
       "\n",
       "   Число успешных шагов  \n",
       "0                 40000  \n",
       "5                 40000  \n",
       "10                40000  \n",
       "15                40000  \n",
       "20                40000  "
      ]
     },
     "execution_count": 67,
     "metadata": {},
     "output_type": "execute_result"
    }
   ],
   "source": [
    "Results['fourth'][3][Results['fourth'][3]['Сошелся']]"
   ]
  },
  {
   "cell_type": "code",
   "execution_count": 68,
   "metadata": {
    "scrolled": false
   },
   "outputs": [
    {
     "name": "stdout",
     "output_type": "stream",
     "text": [
      "Из 25 попыток в итоге сошлись 5\n"
     ]
    }
   ],
   "source": [
    "print('Из {} попыток в итоге сошлись {}'.format(len(Results['fourth'][3]), np.count_nonzero(Results['fourth'][3]['Сошелся'])))"
   ]
  },
  {
   "cell_type": "markdown",
   "metadata": {},
   "source": [
    "Сошлись все те же самые, что и в случае с первым методом, да и результаты точно такие же."
   ]
  },
  {
   "cell_type": "markdown",
   "metadata": {},
   "source": [
    "Три группы тестов:\n",
    "\n",
    "1) Метод \"разошелся\"\n",
    "\n",
    "2) Метод сошелся и $\\alpha_{1,final} \\approx 0.401$, $\\alpha_{2,final} \\approx 10.4$, причем $x_0=0,y_0=0$\n",
    "\n",
    "3) Метод сошелся и $\\alpha_{1,final} \\approx 0.399$, $\\alpha_{2,final} \\approx 10.4$,причем $x_0 = 0, y_0 \\neq 0 $"
   ]
  },
  {
   "cell_type": "code",
   "execution_count": 69,
   "metadata": {},
   "outputs": [
    {
     "data": {
      "image/png": "[encoded data removed]",
      "text/plain": [
       "<Figure size 864x288 with 3 Axes>"
      ]
     },
     "metadata": {
      "needs_background": "light"
     },
     "output_type": "display_data"
    }
   ],
   "source": [
    "fig, ax = plt.subplots(1,3, figsize=(12,4), squeeze=False)\n",
    "History['fourth'][3][17].plot(ax=ax[0][0], x='Time', title='1. Метод разошелся')\n",
    "History['fourth'][3][0].plot(ax=ax[0][1], x='Time', title='2. Метод сошелся (x_0=0, y_0=0)')\n",
    "History['fourth'][3][20].plot(ax=ax[0][2], x='Time', title='3. Метод сошелся (x_0=0, y_0!=0)')\n",
    "\n",
    "fig.tight_layout()"
   ]
  },
  {
   "cell_type": "markdown",
   "metadata": {},
   "source": [
    "Идем дальше!"
   ]
  },
  {
   "cell_type": "markdown",
   "metadata": {},
   "source": [
    "## <a id=4> Неявный метод Рунге-Кутты. Провал. </a> "
   ]
  },
  {
   "cell_type": "markdown",
   "metadata": {},
   "source": [
    "По сути, главное отличие неявных методов от явных в том, что вспомогательная переменная $k_i$ может завситель не только от $k_j, j = \\overline{1,i-1}$, но и от последующих $k_j$."
   ]
  },
  {
   "cell_type": "markdown",
   "metadata": {},
   "source": [
    "Неустойчивость явных методов Рунге — Кутты создаёт весьма серьёзные проблемы и при численном решении дифференциальных уравнений в частных производных. Неустойчивость явных методов Рунге — Кутты мотивировала развитие неявных методов. Рассмотрим двухэтапный неявный метод четвертого порядка Хаммера-Холлинсворта.\n",
    "\n",
    "__Схема метода__\n",
    "\n",
    "1) Вычисляем вспомогательные переменные:\n",
    "\n",
    "$\\overline{k}_{1,i+1} = \\overline{f}\\Big(t_i+h\\Big(\\frac{1}{2}-\\frac{\\sqrt{3}}{6}\\Big),\\overline{z}_i + \\frac{\\overline{k}_{1,i}}{4} + \\Big(\\frac{1}{4}-\\frac{\\sqrt{3}}{6}\\Big)\\overline{k}_{2,i}\\Big)$\n",
    "\n",
    "$\\overline{k}_{2,i+1} = \\overline{f}\\Big(t_i+h\\Big(\\frac{1}{2}+\\frac{\\sqrt{3}}{6}\\Big),\\overline{z}_i +  \\Big(\\frac{1}{4}+\\frac{\\sqrt{3}}{6}\\Big)\\overline{k}_{1,i} + \\frac{\\overline{k}_{2,i}}{4}\\Big)$\n",
    "\n",
    "2) Затем делаем шаг метода:\n",
    "\n",
    "$\\overline{z}_{i+1} = \\overline{z}_i + \\frac{h}{2}(\\overline{k}_{1,i} + \\overline{k}_{2,i+1})$\n",
    "\n",
    "Перейдем к реализации"
   ]
  },
  {
   "cell_type": "code",
   "execution_count": 59,
   "metadata": {},
   "outputs": [],
   "source": [
    "def Runge_Kutta_implicit(fun, z0, eps=1e-3, T=2000, h=0.05, error_info=False):\n",
    "    \"\"\"\n",
    "    Implicit Runge-Kutta method.\n",
    "    \n",
    "    Parametres:\n",
    "    fun: function, that corresponds the ODU system\n",
    "    z0 - initial values\n",
    "    eps - the system parameter (by default 1e-3)\n",
    "    T - the time bound (2000 by default)\n",
    "    h - the step size (0.1 by default)\n",
    "    error_info - bool (true by default), whether show info of method errors or not\n",
    "    \n",
    "    Returns:\n",
    "    History of method working.\n",
    "    \n",
    "    \"\"\"\n",
    "    N = int(T/h) # steps\n",
    "    columns=['Time', 'X', 'Y']+['Alpha'+str(i+1) for i in range(len(z0)-2)]\n",
    "    history = pd.DataFrame([np.append([0],z0)], columns=columns)\n",
    "    k1_,k2_ = 0,0\n",
    "    for i in range(1,N+1):\n",
    "        try:\n",
    "            t= history.iloc[i-1]['Time']\n",
    "            t_new = t + h\n",
    "            k1 = fun(t=t+h*(1/2-np.sqrt(3)/6), values=history.iloc[i-1]['X':]+k1_/4+(1/4-np.sqrt(3)/6)*k2_)\n",
    "            k2 = fun(t=t+h*(1/2+np.sqrt(3)/6), values=(history.iloc[i-1]['X':]+(1/4+np.sqrt(3)/6)*k1_+k2_/4))\n",
    "            f_new = history.iloc[i-1]['X':] + h*(k1+k2)/2\n",
    "            history.loc[i,'Time'] = t_new\n",
    "            history.loc[i]['X':] = f_new\n",
    "            k1_ = k1\n",
    "            k2_ = k2\n",
    "        except ArithmeticError:\n",
    "            if error_info:\n",
    "                print('Метод разошелся после {} шагов!('.format(i))\n",
    "            return history\n",
    "        if history.iloc[i-1].isna().any():\n",
    "            if error_info:\n",
    "                print('Метод разошелся после {} шагов!('.format(i))\n",
    "            return history\n",
    "    return history"
   ]
  },
  {
   "cell_type": "markdown",
   "metadata": {},
   "source": [
    "__Первая система__"
   ]
  },
  {
   "cell_type": "code",
   "execution_count": 66,
   "metadata": {},
   "outputs": [
    {
     "name": "stdout",
     "output_type": "stream",
     "text": [
      "CPU times: user 5min 4s, sys: 827 ms, total: 5min 5s\n",
      "Wall time: 5min 5s\n"
     ]
    }
   ],
   "source": [
    "%%time\n",
    "History['implicit'][1], Results['implicit'][1] = testing_method(Runge_Kutta_implicit, first_odu_function,\n",
    "                                                          first_x_grid, first_y_grid, alphas1=0.001)"
   ]
  },
  {
   "cell_type": "code",
   "execution_count": 67,
   "metadata": {
    "scrolled": true
   },
   "outputs": [
    {
     "data": {
      "text/html": [
       "<div>\n",
       "<style scoped>\n",
       "    .dataframe tbody tr th:only-of-type {\n",
       "        vertical-align: middle;\n",
       "    }\n",
       "\n",
       "    .dataframe tbody tr th {\n",
       "        vertical-align: top;\n",
       "    }\n",
       "\n",
       "    .dataframe thead th {\n",
       "        text-align: right;\n",
       "    }\n",
       "</style>\n",
       "<table border=\"1\" class=\"dataframe\">\n",
       "  <thead>\n",
       "    <tr style=\"text-align: right;\">\n",
       "      <th></th>\n",
       "      <th>x0</th>\n",
       "      <th>y0</th>\n",
       "      <th>alpha1_0</th>\n",
       "      <th>alpha1_final</th>\n",
       "      <th>Сошелся</th>\n",
       "      <th>Число успешных шагов</th>\n",
       "    </tr>\n",
       "  </thead>\n",
       "  <tbody>\n",
       "    <tr>\n",
       "      <th>0</th>\n",
       "      <td>0</td>\n",
       "      <td>0</td>\n",
       "      <td>0.001</td>\n",
       "      <td>4.001</td>\n",
       "      <td>True</td>\n",
       "      <td>40000</td>\n",
       "    </tr>\n",
       "    <tr>\n",
       "      <th>1</th>\n",
       "      <td>1</td>\n",
       "      <td>0</td>\n",
       "      <td>0.001</td>\n",
       "      <td>0.142857</td>\n",
       "      <td>True</td>\n",
       "      <td>40000</td>\n",
       "    </tr>\n",
       "  </tbody>\n",
       "</table>\n",
       "</div>"
      ],
      "text/plain": [
       "  x0 y0 alpha1_0 alpha1_final Сошелся Число успешных шагов\n",
       "0  0  0    0.001        4.001    True                40000\n",
       "1  1  0    0.001     0.142857    True                40000"
      ]
     },
     "execution_count": 67,
     "metadata": {},
     "output_type": "execute_result"
    }
   ],
   "source": [
    "Results['implicit'][1][Results['implicit'][1]['Сошелся']]"
   ]
  },
  {
   "cell_type": "code",
   "execution_count": 68,
   "metadata": {
    "scrolled": true
   },
   "outputs": [
    {
     "name": "stdout",
     "output_type": "stream",
     "text": [
      "Из 16 попыток в итоге сошлись 2\n"
     ]
    }
   ],
   "source": [
    "print('Из {} попыток в итоге сошлись {}'.format(len(Results['implicit'][1]), np.count_nonzero(Results['implicit'][1]['Сошелся'])))"
   ]
  },
  {
   "cell_type": "markdown",
   "metadata": {},
   "source": [
    "Чего-то как-то не очень("
   ]
  },
  {
   "cell_type": "markdown",
   "metadata": {},
   "source": [
    "Три группы тестов:\n",
    "\n",
    "1) Метод \"разошелся\"\n",
    "\n",
    "2) Метод сошелся и $\\alpha_{1,final} \\approx 4$, причем $x_0=0, y_0=0$\n",
    "\n",
    "3) Метод сошелся и $\\alpha_{1,final} \\approx 0.14$,причем $x_0 \\neq 0, y_0 = 0 $"
   ]
  },
  {
   "cell_type": "code",
   "execution_count": 70,
   "metadata": {
    "scrolled": true
   },
   "outputs": [
    {
     "data": {
      "image/png": "[encoded data removed]",
      "text/plain": [
       "<Figure size 864x288 with 3 Axes>"
      ]
     },
     "metadata": {
      "needs_background": "light"
     },
     "output_type": "display_data"
    }
   ],
   "source": [
    "fig, ax = plt.subplots(1,3, figsize=(12,4), squeeze=False)\n",
    "History['implicit'][1][2].plot(ax=ax[0][0], x='Time', title='1. Метод разошелся')\n",
    "History['implicit'][1][0].plot(ax=ax[0][1], x='Time', title='2. Метод сошелся (x_0=0, y_0=0)')\n",
    "History['implicit'][1][1].plot(ax=ax[0][2], x='Time', title='3. Метод сошелся (x_0!=0, y_0=0)')\n",
    "\n",
    "fig.tight_layout()"
   ]
  },
  {
   "cell_type": "markdown",
   "metadata": {},
   "source": [
    "__Вторая система__"
   ]
  },
  {
   "cell_type": "code",
   "execution_count": 62,
   "metadata": {},
   "outputs": [
    {
     "name": "stdout",
     "output_type": "stream",
     "text": [
      "CPU times: user 1min 41s, sys: 341 ms, total: 1min 42s\n",
      "Wall time: 1min 42s\n"
     ]
    }
   ],
   "source": [
    "%%time\n",
    "History['implicit'][2], Results['implicit'][2] = testing_method(Runge_Kutta_implicit, second_odu_function,\n",
    "                                                          second_x_grid, second_y_grid, alphas1=0.001, alphas2=10)"
   ]
  },
  {
   "cell_type": "code",
   "execution_count": 63,
   "metadata": {
    "scrolled": true
   },
   "outputs": [
    {
     "data": {
      "text/html": [
       "<div>\n",
       "<style scoped>\n",
       "    .dataframe tbody tr th:only-of-type {\n",
       "        vertical-align: middle;\n",
       "    }\n",
       "\n",
       "    .dataframe tbody tr th {\n",
       "        vertical-align: top;\n",
       "    }\n",
       "\n",
       "    .dataframe thead th {\n",
       "        text-align: right;\n",
       "    }\n",
       "</style>\n",
       "<table border=\"1\" class=\"dataframe\">\n",
       "  <thead>\n",
       "    <tr style=\"text-align: right;\">\n",
       "      <th></th>\n",
       "      <th>x0</th>\n",
       "      <th>y0</th>\n",
       "      <th>alpha1_0</th>\n",
       "      <th>alpha2_0</th>\n",
       "      <th>alpha1_final</th>\n",
       "      <th>alpha2_final</th>\n",
       "      <th>Сошелся</th>\n",
       "      <th>Число успешных шагов</th>\n",
       "    </tr>\n",
       "  </thead>\n",
       "  <tbody>\n",
       "    <tr>\n",
       "      <th>0</th>\n",
       "      <td>0</td>\n",
       "      <td>0</td>\n",
       "      <td>0.001</td>\n",
       "      <td>10</td>\n",
       "      <td>4.001</td>\n",
       "      <td>14</td>\n",
       "      <td>True</td>\n",
       "      <td>40000</td>\n",
       "    </tr>\n",
       "  </tbody>\n",
       "</table>\n",
       "</div>"
      ],
      "text/plain": [
       "  x0 y0 alpha1_0 alpha2_0 alpha1_final alpha2_final Сошелся  \\\n",
       "0  0  0    0.001       10        4.001           14    True   \n",
       "\n",
       "  Число успешных шагов  \n",
       "0                40000  "
      ]
     },
     "execution_count": 63,
     "metadata": {},
     "output_type": "execute_result"
    }
   ],
   "source": [
    "Results['implicit'][2][Results['implicit'][2]['Сошелся']]"
   ]
  },
  {
   "cell_type": "code",
   "execution_count": 74,
   "metadata": {
    "scrolled": false
   },
   "outputs": [
    {
     "name": "stdout",
     "output_type": "stream",
     "text": [
      "Из 25 попыток в итоге сошлись 1\n"
     ]
    }
   ],
   "source": [
    "print('Из {} попыток в итоге сошлись {}'.format(len(Results['implicit'][2]), np.count_nonzero(Results['implicit'][2]['Сошелся'])))"
   ]
  },
  {
   "cell_type": "code",
   "execution_count": 78,
   "metadata": {},
   "outputs": [
    {
     "data": {
      "image/png": "[encoded data removed]",
      "text/plain": [
       "<Figure size 864x288 with 3 Axes>"
      ]
     },
     "metadata": {
      "needs_background": "light"
     },
     "output_type": "display_data"
    }
   ],
   "source": [
    "fig, ax = plt.subplots(1,3, figsize=(12,4), squeeze=False)\n",
    "History['implicit'][2][2].plot(ax=ax[0][0], x='Time', title='1. Метод разошелся')\n",
    "History['implicit'][2][0].plot(ax=ax[0][1], x='Time', title='2. Метод сошелся (x_0=0, y_0=0)')\n",
    "History['implicit'][2][15].plot(ax=ax[0][2], x='Time', title='3. Метод разошелся')\n",
    "\n",
    "fig.tight_layout()"
   ]
  },
  {
   "cell_type": "markdown",
   "metadata": {},
   "source": [
    "__Третья система__"
   ]
  },
  {
   "cell_type": "code",
   "execution_count": 79,
   "metadata": {},
   "outputs": [
    {
     "name": "stdout",
     "output_type": "stream",
     "text": [
      "CPU times: user 1min 45s, sys: 588 ms, total: 1min 45s\n",
      "Wall time: 1min 45s\n"
     ]
    }
   ],
   "source": [
    "%%time\n",
    "History['implicit'][3], Results['implicit'][3] = testing_method(Runge_Kutta_implicit, third_odu_function,\n",
    "                                                          third_x_grid, third_y_grid, alphas1=0.001, alphas2=10)"
   ]
  },
  {
   "cell_type": "code",
   "execution_count": 80,
   "metadata": {
    "scrolled": true
   },
   "outputs": [
    {
     "data": {
      "text/html": [
       "<div>\n",
       "<style scoped>\n",
       "    .dataframe tbody tr th:only-of-type {\n",
       "        vertical-align: middle;\n",
       "    }\n",
       "\n",
       "    .dataframe tbody tr th {\n",
       "        vertical-align: top;\n",
       "    }\n",
       "\n",
       "    .dataframe thead th {\n",
       "        text-align: right;\n",
       "    }\n",
       "</style>\n",
       "<table border=\"1\" class=\"dataframe\">\n",
       "  <thead>\n",
       "    <tr style=\"text-align: right;\">\n",
       "      <th></th>\n",
       "      <th>x0</th>\n",
       "      <th>y0</th>\n",
       "      <th>alpha1_0</th>\n",
       "      <th>alpha2_0</th>\n",
       "      <th>alpha1_final</th>\n",
       "      <th>alpha2_final</th>\n",
       "      <th>Сошелся</th>\n",
       "      <th>Число успешных шагов</th>\n",
       "    </tr>\n",
       "  </thead>\n",
       "  <tbody>\n",
       "    <tr>\n",
       "      <th>0</th>\n",
       "      <td>0</td>\n",
       "      <td>0</td>\n",
       "      <td>0.001</td>\n",
       "      <td>10</td>\n",
       "      <td>0.401</td>\n",
       "      <td>10.4</td>\n",
       "      <td>True</td>\n",
       "      <td>40000</td>\n",
       "    </tr>\n",
       "  </tbody>\n",
       "</table>\n",
       "</div>"
      ],
      "text/plain": [
       "  x0 y0 alpha1_0 alpha2_0 alpha1_final alpha2_final Сошелся  \\\n",
       "0  0  0    0.001       10        0.401         10.4    True   \n",
       "\n",
       "  Число успешных шагов  \n",
       "0                40000  "
      ]
     },
     "execution_count": 80,
     "metadata": {},
     "output_type": "execute_result"
    }
   ],
   "source": [
    "Results['implicit'][3][Results['implicit'][3]['Сошелся']]"
   ]
  },
  {
   "cell_type": "code",
   "execution_count": 81,
   "metadata": {
    "scrolled": false
   },
   "outputs": [
    {
     "name": "stdout",
     "output_type": "stream",
     "text": [
      "Из 25 попыток в итоге сошлись 1\n"
     ]
    }
   ],
   "source": [
    "print('Из {} попыток в итоге сошлись {}'.format(len(Results['implicit'][3]), np.count_nonzero(Results['implicit'][3]['Сошелся'])))"
   ]
  },
  {
   "cell_type": "code",
   "execution_count": 82,
   "metadata": {},
   "outputs": [
    {
     "data": {
      "image/png": "[encoded data removed]",
      "text/plain": [
       "<Figure size 864x288 with 3 Axes>"
      ]
     },
     "metadata": {
      "needs_background": "light"
     },
     "output_type": "display_data"
    }
   ],
   "source": [
    "fig, ax = plt.subplots(1,3, figsize=(12,4), squeeze=False)\n",
    "History['implicit'][3][2].plot(ax=ax[0][0], x='Time', title='1. Метод разошелся')\n",
    "History['implicit'][3][0].plot(ax=ax[0][1], x='Time', title='2. Метод сошелся (x_0=0, y_0=0)')\n",
    "History['implicit'][3][15].plot(ax=ax[0][2], x='Time', title='3. Метод разошелся')\n",
    "\n",
    "fig.tight_layout()"
   ]
  },
  {
   "cell_type": "markdown",
   "metadata": {},
   "source": [
    "В общем, видимо, либо я где-то облажался с неявным методом, либо этот вариант капитально не подходит нашей задаче."
   ]
  },
  {
   "cell_type": "markdown",
   "metadata": {},
   "source": [
    "## <a id=5> Попытка все исправить. Успех! </a>"
   ]
  },
  {
   "cell_type": "markdown",
   "metadata": {},
   "source": [
    "Мда, что-то попытка самостоятельно реализовать неявный метод не увенчалась особым успехом. Попробуем воспользоваться библиотечной реализацией неявного метода ‘BDF’: _\"Implicit multi-step variable-order (1 to 5) method based on a backward differentiation formula for the derivative approximation\"_. В общем, явно какая-то крутая штука."
   ]
  },
  {
   "cell_type": "code",
   "execution_count": 72,
   "metadata": {},
   "outputs": [],
   "source": [
    "from scipy import integrate"
   ]
  },
  {
   "cell_type": "markdown",
   "metadata": {},
   "source": [
    "__Первая система__"
   ]
  },
  {
   "cell_type": "markdown",
   "metadata": {},
   "source": [
    "Прогоним этот солвер по тем же начальным значениями системы."
   ]
  },
  {
   "cell_type": "code",
   "execution_count": 107,
   "metadata": {},
   "outputs": [
    {
     "name": "stdout",
     "output_type": "stream",
     "text": [
      "CPU times: user 57.7 s, sys: 31.2 ms, total: 57.8 s\n",
      "Wall time: 57.7 s\n"
     ]
    }
   ],
   "source": [
    "%%time\n",
    "alpha1_0 = 0.001\n",
    "BDF_history = {}\n",
    "BDF_results = {}\n",
    "BDF_history[1] = {}\n",
    "BDF_results[1] = pd.DataFrame([],columns=['x0', 'y0','alpha1_0','alpha1_final','Сошелся'])\n",
    "i=0\n",
    "x_, y_ = np.meshgrid(first_x_grid, first_y_grid)\n",
    "for initial in np.dstack([x_.ravel(),y_.ravel()])[0]:\n",
    "    res = integrate.solve_ivp(first_odu_function, (0, 2000), np.append(initial, alpha1_0), method='BDF', max_step=0.1)\n",
    "    BDF_history[1][i] = {'initial':initial, 'res':res}\n",
    "    BDF_results[1].loc[i] = np.append(initial, [0.001, res.y[2][-1], res.success])\n",
    "    i+=1"
   ]
  },
  {
   "cell_type": "code",
   "execution_count": 108,
   "metadata": {},
   "outputs": [
    {
     "data": {
      "text/html": [
       "<div>\n",
       "<style scoped>\n",
       "    .dataframe tbody tr th:only-of-type {\n",
       "        vertical-align: middle;\n",
       "    }\n",
       "\n",
       "    .dataframe tbody tr th {\n",
       "        vertical-align: top;\n",
       "    }\n",
       "\n",
       "    .dataframe thead th {\n",
       "        text-align: right;\n",
       "    }\n",
       "</style>\n",
       "<table border=\"1\" class=\"dataframe\">\n",
       "  <thead>\n",
       "    <tr style=\"text-align: right;\">\n",
       "      <th></th>\n",
       "      <th>x0</th>\n",
       "      <th>y0</th>\n",
       "      <th>alpha1_0</th>\n",
       "      <th>alpha1_final</th>\n",
       "      <th>Сошелся</th>\n",
       "    </tr>\n",
       "  </thead>\n",
       "  <tbody>\n",
       "    <tr>\n",
       "      <th>0</th>\n",
       "      <td>0.0</td>\n",
       "      <td>0.0</td>\n",
       "      <td>0.001</td>\n",
       "      <td>4.001000</td>\n",
       "      <td>1.0</td>\n",
       "    </tr>\n",
       "    <tr>\n",
       "      <th>1</th>\n",
       "      <td>1.0</td>\n",
       "      <td>0.0</td>\n",
       "      <td>0.001</td>\n",
       "      <td>0.142857</td>\n",
       "      <td>1.0</td>\n",
       "    </tr>\n",
       "    <tr>\n",
       "      <th>2</th>\n",
       "      <td>0.0</td>\n",
       "      <td>2.0</td>\n",
       "      <td>0.001</td>\n",
       "      <td>4.001000</td>\n",
       "      <td>1.0</td>\n",
       "    </tr>\n",
       "    <tr>\n",
       "      <th>3</th>\n",
       "      <td>1.0</td>\n",
       "      <td>2.0</td>\n",
       "      <td>0.001</td>\n",
       "      <td>256.465521</td>\n",
       "      <td>1.0</td>\n",
       "    </tr>\n",
       "    <tr>\n",
       "      <th>4</th>\n",
       "      <td>0.0</td>\n",
       "      <td>4.0</td>\n",
       "      <td>0.001</td>\n",
       "      <td>4.001000</td>\n",
       "      <td>1.0</td>\n",
       "    </tr>\n",
       "    <tr>\n",
       "      <th>5</th>\n",
       "      <td>1.0</td>\n",
       "      <td>4.0</td>\n",
       "      <td>0.001</td>\n",
       "      <td>253.661236</td>\n",
       "      <td>1.0</td>\n",
       "    </tr>\n",
       "    <tr>\n",
       "      <th>6</th>\n",
       "      <td>0.0</td>\n",
       "      <td>6.0</td>\n",
       "      <td>0.001</td>\n",
       "      <td>4.001000</td>\n",
       "      <td>1.0</td>\n",
       "    </tr>\n",
       "    <tr>\n",
       "      <th>7</th>\n",
       "      <td>1.0</td>\n",
       "      <td>6.0</td>\n",
       "      <td>0.001</td>\n",
       "      <td>1.541514</td>\n",
       "      <td>1.0</td>\n",
       "    </tr>\n",
       "    <tr>\n",
       "      <th>8</th>\n",
       "      <td>0.0</td>\n",
       "      <td>8.0</td>\n",
       "      <td>0.001</td>\n",
       "      <td>4.001000</td>\n",
       "      <td>1.0</td>\n",
       "    </tr>\n",
       "    <tr>\n",
       "      <th>9</th>\n",
       "      <td>1.0</td>\n",
       "      <td>8.0</td>\n",
       "      <td>0.001</td>\n",
       "      <td>256.886907</td>\n",
       "      <td>1.0</td>\n",
       "    </tr>\n",
       "    <tr>\n",
       "      <th>10</th>\n",
       "      <td>0.0</td>\n",
       "      <td>10.0</td>\n",
       "      <td>0.001</td>\n",
       "      <td>4.001000</td>\n",
       "      <td>1.0</td>\n",
       "    </tr>\n",
       "    <tr>\n",
       "      <th>11</th>\n",
       "      <td>1.0</td>\n",
       "      <td>10.0</td>\n",
       "      <td>0.001</td>\n",
       "      <td>0.853575</td>\n",
       "      <td>1.0</td>\n",
       "    </tr>\n",
       "    <tr>\n",
       "      <th>12</th>\n",
       "      <td>0.0</td>\n",
       "      <td>12.0</td>\n",
       "      <td>0.001</td>\n",
       "      <td>4.001000</td>\n",
       "      <td>1.0</td>\n",
       "    </tr>\n",
       "    <tr>\n",
       "      <th>13</th>\n",
       "      <td>1.0</td>\n",
       "      <td>12.0</td>\n",
       "      <td>0.001</td>\n",
       "      <td>0.640583</td>\n",
       "      <td>1.0</td>\n",
       "    </tr>\n",
       "    <tr>\n",
       "      <th>14</th>\n",
       "      <td>0.0</td>\n",
       "      <td>14.0</td>\n",
       "      <td>0.001</td>\n",
       "      <td>4.001000</td>\n",
       "      <td>1.0</td>\n",
       "    </tr>\n",
       "    <tr>\n",
       "      <th>15</th>\n",
       "      <td>1.0</td>\n",
       "      <td>14.0</td>\n",
       "      <td>0.001</td>\n",
       "      <td>257.565266</td>\n",
       "      <td>1.0</td>\n",
       "    </tr>\n",
       "  </tbody>\n",
       "</table>\n",
       "</div>"
      ],
      "text/plain": [
       "     x0    y0  alpha1_0  alpha1_final  Сошелся\n",
       "0   0.0   0.0     0.001      4.001000      1.0\n",
       "1   1.0   0.0     0.001      0.142857      1.0\n",
       "2   0.0   2.0     0.001      4.001000      1.0\n",
       "3   1.0   2.0     0.001    256.465521      1.0\n",
       "4   0.0   4.0     0.001      4.001000      1.0\n",
       "5   1.0   4.0     0.001    253.661236      1.0\n",
       "6   0.0   6.0     0.001      4.001000      1.0\n",
       "7   1.0   6.0     0.001      1.541514      1.0\n",
       "8   0.0   8.0     0.001      4.001000      1.0\n",
       "9   1.0   8.0     0.001    256.886907      1.0\n",
       "10  0.0  10.0     0.001      4.001000      1.0\n",
       "11  1.0  10.0     0.001      0.853575      1.0\n",
       "12  0.0  12.0     0.001      4.001000      1.0\n",
       "13  1.0  12.0     0.001      0.640583      1.0\n",
       "14  0.0  14.0     0.001      4.001000      1.0\n",
       "15  1.0  14.0     0.001    257.565266      1.0"
      ]
     },
     "execution_count": 108,
     "metadata": {},
     "output_type": "execute_result"
    }
   ],
   "source": [
    "BDF_results[1]"
   ]
  },
  {
   "cell_type": "markdown",
   "metadata": {},
   "source": [
    "О чудо, сошлись все, да еще и за минуту..."
   ]
  },
  {
   "cell_type": "code",
   "execution_count": 131,
   "metadata": {
    "scrolled": false
   },
   "outputs": [
    {
     "data": {
      "image/png": "[encoded data removed]",
      "text/plain": [
       "<Figure size 1512x1008 with 6 Axes>"
      ]
     },
     "metadata": {
      "needs_background": "light"
     },
     "output_type": "display_data"
    }
   ],
   "source": [
    "fig, ax = plt.subplots(2,3, figsize=(21,14), squeeze=False)\n",
    "for i,ind in enumerate([1,2,7,9,11,13]):\n",
    "    pl = ax[i//3,i%3].plot(BDF_history[1][ind]['res'].t, BDF_history[1][ind]['res'].y.T)\n",
    "    ax[i//3,i%3].set_title('x_0={}, y_0={}'.format(*BDF_results[1].loc[ind,'x0':'y0']))\n",
    "    ax[i//3,i%3].legend(pl, ['X','Y','Alpha'], loc='best')"
   ]
  },
  {
   "cell_type": "markdown",
   "metadata": {},
   "source": [
    "Вот это я понимаю графики! Напомню, наши явные Рунге-Кутты смогли получить лишь первые два случая. С остальными случаями они попросту не справились, а тут ведь происходили такие чудеса! Самая красата происходит на графиках с ненулевыми начальными значениями x и y, на которые до этого у нас не было возможности взглянуть."
   ]
  },
  {
   "cell_type": "markdown",
   "metadata": {},
   "source": [
    "Перейдем ко __второй системе__"
   ]
  },
  {
   "cell_type": "code",
   "execution_count": 134,
   "metadata": {},
   "outputs": [
    {
     "name": "stdout",
     "output_type": "stream",
     "text": [
      "CPU times: user 35.3 s, sys: 20.7 ms, total: 35.3 s\n",
      "Wall time: 35.3 s\n"
     ]
    }
   ],
   "source": [
    "%%time\n",
    "alpha1_0 = 0.001\n",
    "alpha2_0 = 10\n",
    "BDF_history[2] = {}\n",
    "BDF_results[2] = pd.DataFrame([],columns=['x0', 'y0','alpha1_0','alpha2_0','alpha1_final','alpha2_final','Сошелся'])\n",
    "i=0\n",
    "x_, y_ = np.meshgrid(second_x_grid, second_y_grid)\n",
    "for initial in np.dstack([x_.ravel(),y_.ravel()])[0]:\n",
    "    res = integrate.solve_ivp(second_odu_function, (0, 2000), np.append(initial, [alpha1_0,alpha2_0]), method='BDF', max_step=0.1)\n",
    "    BDF_history[2][i] = {'initial':initial, 'res':res}\n",
    "    BDF_results[2].loc[i] = np.append(initial, [0.001, 10, res.y[2][-1], res.y[3][-1], res.success])\n",
    "    i+=1"
   ]
  },
  {
   "cell_type": "markdown",
   "metadata": {},
   "source": [
    "Вот это скорость..."
   ]
  },
  {
   "cell_type": "code",
   "execution_count": 135,
   "metadata": {
    "scrolled": false
   },
   "outputs": [
    {
     "data": {
      "text/html": [
       "<div>\n",
       "<style scoped>\n",
       "    .dataframe tbody tr th:only-of-type {\n",
       "        vertical-align: middle;\n",
       "    }\n",
       "\n",
       "    .dataframe tbody tr th {\n",
       "        vertical-align: top;\n",
       "    }\n",
       "\n",
       "    .dataframe thead th {\n",
       "        text-align: right;\n",
       "    }\n",
       "</style>\n",
       "<table border=\"1\" class=\"dataframe\">\n",
       "  <thead>\n",
       "    <tr style=\"text-align: right;\">\n",
       "      <th></th>\n",
       "      <th>x0</th>\n",
       "      <th>y0</th>\n",
       "      <th>alpha1_0</th>\n",
       "      <th>alpha2_0</th>\n",
       "      <th>alpha1_final</th>\n",
       "      <th>alpha2_final</th>\n",
       "      <th>Сошелся</th>\n",
       "    </tr>\n",
       "  </thead>\n",
       "  <tbody>\n",
       "    <tr>\n",
       "      <th>0</th>\n",
       "      <td>0.0</td>\n",
       "      <td>0.0</td>\n",
       "      <td>0.001</td>\n",
       "      <td>10.0</td>\n",
       "      <td>4.001000</td>\n",
       "      <td>8.017775e-01</td>\n",
       "      <td>1.0</td>\n",
       "    </tr>\n",
       "    <tr>\n",
       "      <th>1</th>\n",
       "      <td>10.0</td>\n",
       "      <td>0.0</td>\n",
       "      <td>0.001</td>\n",
       "      <td>10.0</td>\n",
       "      <td>4.001000</td>\n",
       "      <td>8.002667e-01</td>\n",
       "      <td>1.0</td>\n",
       "    </tr>\n",
       "    <tr>\n",
       "      <th>2</th>\n",
       "      <td>20.0</td>\n",
       "      <td>0.0</td>\n",
       "      <td>0.001</td>\n",
       "      <td>10.0</td>\n",
       "      <td>4.001000</td>\n",
       "      <td>8.002667e-01</td>\n",
       "      <td>1.0</td>\n",
       "    </tr>\n",
       "    <tr>\n",
       "      <th>3</th>\n",
       "      <td>30.0</td>\n",
       "      <td>0.0</td>\n",
       "      <td>0.001</td>\n",
       "      <td>10.0</td>\n",
       "      <td>4.001000</td>\n",
       "      <td>8.002667e-01</td>\n",
       "      <td>1.0</td>\n",
       "    </tr>\n",
       "    <tr>\n",
       "      <th>4</th>\n",
       "      <td>40.0</td>\n",
       "      <td>0.0</td>\n",
       "      <td>0.001</td>\n",
       "      <td>10.0</td>\n",
       "      <td>4.001000</td>\n",
       "      <td>8.002667e-01</td>\n",
       "      <td>1.0</td>\n",
       "    </tr>\n",
       "    <tr>\n",
       "      <th>5</th>\n",
       "      <td>0.0</td>\n",
       "      <td>10.0</td>\n",
       "      <td>0.001</td>\n",
       "      <td>10.0</td>\n",
       "      <td>0.301565</td>\n",
       "      <td>3.518807e+01</td>\n",
       "      <td>0.0</td>\n",
       "    </tr>\n",
       "    <tr>\n",
       "      <th>6</th>\n",
       "      <td>10.0</td>\n",
       "      <td>10.0</td>\n",
       "      <td>0.001</td>\n",
       "      <td>10.0</td>\n",
       "      <td>0.001002</td>\n",
       "      <td>1.275609e-07</td>\n",
       "      <td>0.0</td>\n",
       "    </tr>\n",
       "    <tr>\n",
       "      <th>7</th>\n",
       "      <td>20.0</td>\n",
       "      <td>10.0</td>\n",
       "      <td>0.001</td>\n",
       "      <td>10.0</td>\n",
       "      <td>0.001001</td>\n",
       "      <td>4.204069e-07</td>\n",
       "      <td>0.0</td>\n",
       "    </tr>\n",
       "    <tr>\n",
       "      <th>8</th>\n",
       "      <td>30.0</td>\n",
       "      <td>10.0</td>\n",
       "      <td>0.001</td>\n",
       "      <td>10.0</td>\n",
       "      <td>0.001001</td>\n",
       "      <td>3.631263e-07</td>\n",
       "      <td>0.0</td>\n",
       "    </tr>\n",
       "    <tr>\n",
       "      <th>9</th>\n",
       "      <td>40.0</td>\n",
       "      <td>10.0</td>\n",
       "      <td>0.001</td>\n",
       "      <td>10.0</td>\n",
       "      <td>0.001000</td>\n",
       "      <td>3.217584e-07</td>\n",
       "      <td>0.0</td>\n",
       "    </tr>\n",
       "    <tr>\n",
       "      <th>10</th>\n",
       "      <td>0.0</td>\n",
       "      <td>20.0</td>\n",
       "      <td>0.001</td>\n",
       "      <td>10.0</td>\n",
       "      <td>0.299906</td>\n",
       "      <td>3.557908e+01</td>\n",
       "      <td>0.0</td>\n",
       "    </tr>\n",
       "    <tr>\n",
       "      <th>11</th>\n",
       "      <td>10.0</td>\n",
       "      <td>20.0</td>\n",
       "      <td>0.001</td>\n",
       "      <td>10.0</td>\n",
       "      <td>0.001002</td>\n",
       "      <td>1.429559e-06</td>\n",
       "      <td>0.0</td>\n",
       "    </tr>\n",
       "    <tr>\n",
       "      <th>12</th>\n",
       "      <td>20.0</td>\n",
       "      <td>20.0</td>\n",
       "      <td>0.001</td>\n",
       "      <td>10.0</td>\n",
       "      <td>0.001006</td>\n",
       "      <td>3.243009e-07</td>\n",
       "      <td>0.0</td>\n",
       "    </tr>\n",
       "    <tr>\n",
       "      <th>13</th>\n",
       "      <td>30.0</td>\n",
       "      <td>20.0</td>\n",
       "      <td>0.001</td>\n",
       "      <td>10.0</td>\n",
       "      <td>0.001001</td>\n",
       "      <td>7.963981e-07</td>\n",
       "      <td>0.0</td>\n",
       "    </tr>\n",
       "    <tr>\n",
       "      <th>14</th>\n",
       "      <td>40.0</td>\n",
       "      <td>20.0</td>\n",
       "      <td>0.001</td>\n",
       "      <td>10.0</td>\n",
       "      <td>0.001000</td>\n",
       "      <td>5.966676e-07</td>\n",
       "      <td>0.0</td>\n",
       "    </tr>\n",
       "    <tr>\n",
       "      <th>15</th>\n",
       "      <td>0.0</td>\n",
       "      <td>30.0</td>\n",
       "      <td>0.001</td>\n",
       "      <td>10.0</td>\n",
       "      <td>3.904258</td>\n",
       "      <td>7.811842e-01</td>\n",
       "      <td>1.0</td>\n",
       "    </tr>\n",
       "    <tr>\n",
       "      <th>16</th>\n",
       "      <td>10.0</td>\n",
       "      <td>30.0</td>\n",
       "      <td>0.001</td>\n",
       "      <td>10.0</td>\n",
       "      <td>4.000984</td>\n",
       "      <td>8.002635e-01</td>\n",
       "      <td>1.0</td>\n",
       "    </tr>\n",
       "    <tr>\n",
       "      <th>17</th>\n",
       "      <td>20.0</td>\n",
       "      <td>30.0</td>\n",
       "      <td>0.001</td>\n",
       "      <td>10.0</td>\n",
       "      <td>0.001001</td>\n",
       "      <td>5.660060e-07</td>\n",
       "      <td>0.0</td>\n",
       "    </tr>\n",
       "    <tr>\n",
       "      <th>18</th>\n",
       "      <td>30.0</td>\n",
       "      <td>30.0</td>\n",
       "      <td>0.001</td>\n",
       "      <td>10.0</td>\n",
       "      <td>0.001001</td>\n",
       "      <td>2.087511e-07</td>\n",
       "      <td>0.0</td>\n",
       "    </tr>\n",
       "    <tr>\n",
       "      <th>19</th>\n",
       "      <td>40.0</td>\n",
       "      <td>30.0</td>\n",
       "      <td>0.001</td>\n",
       "      <td>10.0</td>\n",
       "      <td>0.001000</td>\n",
       "      <td>5.167495e-07</td>\n",
       "      <td>0.0</td>\n",
       "    </tr>\n",
       "    <tr>\n",
       "      <th>20</th>\n",
       "      <td>0.0</td>\n",
       "      <td>40.0</td>\n",
       "      <td>0.001</td>\n",
       "      <td>10.0</td>\n",
       "      <td>3.856458</td>\n",
       "      <td>7.717948e-01</td>\n",
       "      <td>1.0</td>\n",
       "    </tr>\n",
       "    <tr>\n",
       "      <th>21</th>\n",
       "      <td>10.0</td>\n",
       "      <td>40.0</td>\n",
       "      <td>0.001</td>\n",
       "      <td>10.0</td>\n",
       "      <td>0.001002</td>\n",
       "      <td>2.961392e-06</td>\n",
       "      <td>0.0</td>\n",
       "    </tr>\n",
       "    <tr>\n",
       "      <th>22</th>\n",
       "      <td>20.0</td>\n",
       "      <td>40.0</td>\n",
       "      <td>0.001</td>\n",
       "      <td>10.0</td>\n",
       "      <td>0.001001</td>\n",
       "      <td>9.796839e-08</td>\n",
       "      <td>0.0</td>\n",
       "    </tr>\n",
       "    <tr>\n",
       "      <th>23</th>\n",
       "      <td>30.0</td>\n",
       "      <td>40.0</td>\n",
       "      <td>0.001</td>\n",
       "      <td>10.0</td>\n",
       "      <td>4.000510</td>\n",
       "      <td>8.001688e-01</td>\n",
       "      <td>1.0</td>\n",
       "    </tr>\n",
       "    <tr>\n",
       "      <th>24</th>\n",
       "      <td>40.0</td>\n",
       "      <td>40.0</td>\n",
       "      <td>0.001</td>\n",
       "      <td>10.0</td>\n",
       "      <td>0.001000</td>\n",
       "      <td>4.908942e-07</td>\n",
       "      <td>0.0</td>\n",
       "    </tr>\n",
       "  </tbody>\n",
       "</table>\n",
       "</div>"
      ],
      "text/plain": [
       "      x0    y0  alpha1_0  alpha2_0  alpha1_final  alpha2_final  Сошелся\n",
       "0    0.0   0.0     0.001      10.0      4.001000  8.017775e-01      1.0\n",
       "1   10.0   0.0     0.001      10.0      4.001000  8.002667e-01      1.0\n",
       "2   20.0   0.0     0.001      10.0      4.001000  8.002667e-01      1.0\n",
       "3   30.0   0.0     0.001      10.0      4.001000  8.002667e-01      1.0\n",
       "4   40.0   0.0     0.001      10.0      4.001000  8.002667e-01      1.0\n",
       "5    0.0  10.0     0.001      10.0      0.301565  3.518807e+01      0.0\n",
       "6   10.0  10.0     0.001      10.0      0.001002  1.275609e-07      0.0\n",
       "7   20.0  10.0     0.001      10.0      0.001001  4.204069e-07      0.0\n",
       "8   30.0  10.0     0.001      10.0      0.001001  3.631263e-07      0.0\n",
       "9   40.0  10.0     0.001      10.0      0.001000  3.217584e-07      0.0\n",
       "10   0.0  20.0     0.001      10.0      0.299906  3.557908e+01      0.0\n",
       "11  10.0  20.0     0.001      10.0      0.001002  1.429559e-06      0.0\n",
       "12  20.0  20.0     0.001      10.0      0.001006  3.243009e-07      0.0\n",
       "13  30.0  20.0     0.001      10.0      0.001001  7.963981e-07      0.0\n",
       "14  40.0  20.0     0.001      10.0      0.001000  5.966676e-07      0.0\n",
       "15   0.0  30.0     0.001      10.0      3.904258  7.811842e-01      1.0\n",
       "16  10.0  30.0     0.001      10.0      4.000984  8.002635e-01      1.0\n",
       "17  20.0  30.0     0.001      10.0      0.001001  5.660060e-07      0.0\n",
       "18  30.0  30.0     0.001      10.0      0.001001  2.087511e-07      0.0\n",
       "19  40.0  30.0     0.001      10.0      0.001000  5.167495e-07      0.0\n",
       "20   0.0  40.0     0.001      10.0      3.856458  7.717948e-01      1.0\n",
       "21  10.0  40.0     0.001      10.0      0.001002  2.961392e-06      0.0\n",
       "22  20.0  40.0     0.001      10.0      0.001001  9.796839e-08      0.0\n",
       "23  30.0  40.0     0.001      10.0      4.000510  8.001688e-01      1.0\n",
       "24  40.0  40.0     0.001      10.0      0.001000  4.908942e-07      0.0"
      ]
     },
     "execution_count": 135,
     "metadata": {},
     "output_type": "execute_result"
    }
   ],
   "source": [
    "BDF_results[2]"
   ]
  },
  {
   "cell_type": "markdown",
   "metadata": {},
   "source": [
    "В этот раз сошлись уже не все)"
   ]
  },
  {
   "cell_type": "code",
   "execution_count": 137,
   "metadata": {
    "scrolled": false
   },
   "outputs": [
    {
     "name": "stdout",
     "output_type": "stream",
     "text": [
      "Из 25 попыток в итоге сошлись 9\n"
     ]
    }
   ],
   "source": [
    "print('Из {} попыток в итоге сошлись {}'.format(len(BDF_results[2]), int(np.sum(BDF_results[2]['Сошелся']))))"
   ]
  },
  {
   "cell_type": "markdown",
   "metadata": {},
   "source": [
    "Однако, в случае с нашим Рунге-Кутты 4го порядка сошлись лишь 5."
   ]
  },
  {
   "cell_type": "code",
   "execution_count": 141,
   "metadata": {},
   "outputs": [
    {
     "data": {
      "image/png": "[encoded data removed]",
      "text/plain": [
       "<Figure size 1512x1008 with 6 Axes>"
      ]
     },
     "metadata": {
      "needs_background": "light"
     },
     "output_type": "display_data"
    }
   ],
   "source": [
    "fig, ax = plt.subplots(2,3, figsize=(21,14), squeeze=False)\n",
    "for i,ind in enumerate([0,2,15,16,20,5]):\n",
    "    pl = ax[i//3,i%3].plot(BDF_history[2][ind]['res'].t, BDF_history[2][ind]['res'].y.T)\n",
    "    ax[i//3,i%3].set_title('x_0={}, y_0={}'.format(*BDF_results[2].loc[ind,'x0':'y0']))\n",
    "    ax[i//3,i%3].legend(pl, ['X','Y','Alpha1', 'Alpha2'], loc='best')"
   ]
  },
  {
   "cell_type": "markdown",
   "metadata": {},
   "source": [
    "На последнем графике случай когда метод разошелся. Как круто все это выглядит!"
   ]
  },
  {
   "cell_type": "markdown",
   "metadata": {},
   "source": [
    "__Третья система__"
   ]
  },
  {
   "cell_type": "code",
   "execution_count": 142,
   "metadata": {},
   "outputs": [
    {
     "name": "stdout",
     "output_type": "stream",
     "text": [
      "CPU times: user 1min 25s, sys: 173 ms, total: 1min 25s\n",
      "Wall time: 1min 25s\n"
     ]
    }
   ],
   "source": [
    "%%time\n",
    "alpha1_0 = 0.001\n",
    "alpha2_0 = 10\n",
    "BDF_history[3] = {}\n",
    "BDF_results[3] = pd.DataFrame([],columns=['x0', 'y0','alpha1_0','alpha2_0','alpha1_final','alpha2_final','Сошелся'])\n",
    "i=0\n",
    "x_, y_ = np.meshgrid(third_x_grid, third_y_grid)\n",
    "for initial in np.dstack([x_.ravel(),y_.ravel()])[0]:\n",
    "    res = integrate.solve_ivp(third_odu_function, (0, 2000), np.append(initial, [alpha1_0,alpha2_0]), method='BDF', max_step=0.1)\n",
    "    BDF_history[3][i] = {'initial':initial, 'res':res}\n",
    "    BDF_results[3].loc[i] = np.append(initial, [0.001, 10, res.y[2][-1], res.y[3][-1], res.success])\n",
    "    i+=1"
   ]
  },
  {
   "cell_type": "code",
   "execution_count": 143,
   "metadata": {
    "scrolled": false
   },
   "outputs": [
    {
     "data": {
      "text/html": [
       "<div>\n",
       "<style scoped>\n",
       "    .dataframe tbody tr th:only-of-type {\n",
       "        vertical-align: middle;\n",
       "    }\n",
       "\n",
       "    .dataframe tbody tr th {\n",
       "        vertical-align: top;\n",
       "    }\n",
       "\n",
       "    .dataframe thead th {\n",
       "        text-align: right;\n",
       "    }\n",
       "</style>\n",
       "<table border=\"1\" class=\"dataframe\">\n",
       "  <thead>\n",
       "    <tr style=\"text-align: right;\">\n",
       "      <th></th>\n",
       "      <th>x0</th>\n",
       "      <th>y0</th>\n",
       "      <th>alpha1_0</th>\n",
       "      <th>alpha2_0</th>\n",
       "      <th>alpha1_final</th>\n",
       "      <th>alpha2_final</th>\n",
       "      <th>Сошелся</th>\n",
       "    </tr>\n",
       "  </thead>\n",
       "  <tbody>\n",
       "    <tr>\n",
       "      <th>0</th>\n",
       "      <td>0.0</td>\n",
       "      <td>0.0</td>\n",
       "      <td>0.001</td>\n",
       "      <td>10.0</td>\n",
       "      <td>0.401000</td>\n",
       "      <td>0.135729</td>\n",
       "      <td>1.0</td>\n",
       "    </tr>\n",
       "    <tr>\n",
       "      <th>1</th>\n",
       "      <td>10.0</td>\n",
       "      <td>0.0</td>\n",
       "      <td>0.001</td>\n",
       "      <td>10.0</td>\n",
       "      <td>0.401000</td>\n",
       "      <td>0.133722</td>\n",
       "      <td>1.0</td>\n",
       "    </tr>\n",
       "    <tr>\n",
       "      <th>2</th>\n",
       "      <td>20.0</td>\n",
       "      <td>0.0</td>\n",
       "      <td>0.001</td>\n",
       "      <td>10.0</td>\n",
       "      <td>0.401000</td>\n",
       "      <td>0.133722</td>\n",
       "      <td>1.0</td>\n",
       "    </tr>\n",
       "    <tr>\n",
       "      <th>3</th>\n",
       "      <td>30.0</td>\n",
       "      <td>0.0</td>\n",
       "      <td>0.001</td>\n",
       "      <td>10.0</td>\n",
       "      <td>0.401000</td>\n",
       "      <td>0.133722</td>\n",
       "      <td>1.0</td>\n",
       "    </tr>\n",
       "    <tr>\n",
       "      <th>4</th>\n",
       "      <td>40.0</td>\n",
       "      <td>0.0</td>\n",
       "      <td>0.001</td>\n",
       "      <td>10.0</td>\n",
       "      <td>0.401000</td>\n",
       "      <td>0.133722</td>\n",
       "      <td>1.0</td>\n",
       "    </tr>\n",
       "    <tr>\n",
       "      <th>5</th>\n",
       "      <td>0.0</td>\n",
       "      <td>10.0</td>\n",
       "      <td>0.001</td>\n",
       "      <td>10.0</td>\n",
       "      <td>0.400975</td>\n",
       "      <td>0.134082</td>\n",
       "      <td>1.0</td>\n",
       "    </tr>\n",
       "    <tr>\n",
       "      <th>6</th>\n",
       "      <td>10.0</td>\n",
       "      <td>10.0</td>\n",
       "      <td>0.001</td>\n",
       "      <td>10.0</td>\n",
       "      <td>0.400996</td>\n",
       "      <td>0.133721</td>\n",
       "      <td>1.0</td>\n",
       "    </tr>\n",
       "    <tr>\n",
       "      <th>7</th>\n",
       "      <td>20.0</td>\n",
       "      <td>10.0</td>\n",
       "      <td>0.001</td>\n",
       "      <td>10.0</td>\n",
       "      <td>0.401015</td>\n",
       "      <td>0.133727</td>\n",
       "      <td>1.0</td>\n",
       "    </tr>\n",
       "    <tr>\n",
       "      <th>8</th>\n",
       "      <td>30.0</td>\n",
       "      <td>10.0</td>\n",
       "      <td>0.001</td>\n",
       "      <td>10.0</td>\n",
       "      <td>0.401009</td>\n",
       "      <td>0.133725</td>\n",
       "      <td>1.0</td>\n",
       "    </tr>\n",
       "    <tr>\n",
       "      <th>9</th>\n",
       "      <td>40.0</td>\n",
       "      <td>10.0</td>\n",
       "      <td>0.001</td>\n",
       "      <td>10.0</td>\n",
       "      <td>0.001045</td>\n",
       "      <td>0.000007</td>\n",
       "      <td>0.0</td>\n",
       "    </tr>\n",
       "    <tr>\n",
       "      <th>10</th>\n",
       "      <td>0.0</td>\n",
       "      <td>20.0</td>\n",
       "      <td>0.001</td>\n",
       "      <td>10.0</td>\n",
       "      <td>0.400973</td>\n",
       "      <td>0.134123</td>\n",
       "      <td>1.0</td>\n",
       "    </tr>\n",
       "    <tr>\n",
       "      <th>11</th>\n",
       "      <td>10.0</td>\n",
       "      <td>20.0</td>\n",
       "      <td>0.001</td>\n",
       "      <td>10.0</td>\n",
       "      <td>0.401023</td>\n",
       "      <td>0.133730</td>\n",
       "      <td>1.0</td>\n",
       "    </tr>\n",
       "    <tr>\n",
       "      <th>12</th>\n",
       "      <td>20.0</td>\n",
       "      <td>20.0</td>\n",
       "      <td>0.001</td>\n",
       "      <td>10.0</td>\n",
       "      <td>0.001512</td>\n",
       "      <td>0.000102</td>\n",
       "      <td>0.0</td>\n",
       "    </tr>\n",
       "    <tr>\n",
       "      <th>13</th>\n",
       "      <td>30.0</td>\n",
       "      <td>20.0</td>\n",
       "      <td>0.001</td>\n",
       "      <td>10.0</td>\n",
       "      <td>0.400989</td>\n",
       "      <td>0.133719</td>\n",
       "      <td>1.0</td>\n",
       "    </tr>\n",
       "    <tr>\n",
       "      <th>14</th>\n",
       "      <td>40.0</td>\n",
       "      <td>20.0</td>\n",
       "      <td>0.001</td>\n",
       "      <td>10.0</td>\n",
       "      <td>0.003795</td>\n",
       "      <td>0.000224</td>\n",
       "      <td>0.0</td>\n",
       "    </tr>\n",
       "    <tr>\n",
       "      <th>15</th>\n",
       "      <td>0.0</td>\n",
       "      <td>30.0</td>\n",
       "      <td>0.001</td>\n",
       "      <td>10.0</td>\n",
       "      <td>0.400976</td>\n",
       "      <td>0.134054</td>\n",
       "      <td>1.0</td>\n",
       "    </tr>\n",
       "    <tr>\n",
       "      <th>16</th>\n",
       "      <td>10.0</td>\n",
       "      <td>30.0</td>\n",
       "      <td>0.001</td>\n",
       "      <td>10.0</td>\n",
       "      <td>0.400979</td>\n",
       "      <td>0.133715</td>\n",
       "      <td>1.0</td>\n",
       "    </tr>\n",
       "    <tr>\n",
       "      <th>17</th>\n",
       "      <td>20.0</td>\n",
       "      <td>30.0</td>\n",
       "      <td>0.001</td>\n",
       "      <td>10.0</td>\n",
       "      <td>0.001773</td>\n",
       "      <td>0.000019</td>\n",
       "      <td>0.0</td>\n",
       "    </tr>\n",
       "    <tr>\n",
       "      <th>18</th>\n",
       "      <td>30.0</td>\n",
       "      <td>30.0</td>\n",
       "      <td>0.001</td>\n",
       "      <td>10.0</td>\n",
       "      <td>0.001349</td>\n",
       "      <td>0.000045</td>\n",
       "      <td>0.0</td>\n",
       "    </tr>\n",
       "    <tr>\n",
       "      <th>19</th>\n",
       "      <td>40.0</td>\n",
       "      <td>30.0</td>\n",
       "      <td>0.001</td>\n",
       "      <td>10.0</td>\n",
       "      <td>0.400894</td>\n",
       "      <td>0.133687</td>\n",
       "      <td>1.0</td>\n",
       "    </tr>\n",
       "    <tr>\n",
       "      <th>20</th>\n",
       "      <td>0.0</td>\n",
       "      <td>40.0</td>\n",
       "      <td>0.001</td>\n",
       "      <td>10.0</td>\n",
       "      <td>0.400961</td>\n",
       "      <td>0.134490</td>\n",
       "      <td>1.0</td>\n",
       "    </tr>\n",
       "    <tr>\n",
       "      <th>21</th>\n",
       "      <td>10.0</td>\n",
       "      <td>40.0</td>\n",
       "      <td>0.001</td>\n",
       "      <td>10.0</td>\n",
       "      <td>0.401003</td>\n",
       "      <td>0.133723</td>\n",
       "      <td>1.0</td>\n",
       "    </tr>\n",
       "    <tr>\n",
       "      <th>22</th>\n",
       "      <td>20.0</td>\n",
       "      <td>40.0</td>\n",
       "      <td>0.001</td>\n",
       "      <td>10.0</td>\n",
       "      <td>0.400991</td>\n",
       "      <td>0.133719</td>\n",
       "      <td>1.0</td>\n",
       "    </tr>\n",
       "    <tr>\n",
       "      <th>23</th>\n",
       "      <td>30.0</td>\n",
       "      <td>40.0</td>\n",
       "      <td>0.001</td>\n",
       "      <td>10.0</td>\n",
       "      <td>0.400979</td>\n",
       "      <td>0.133715</td>\n",
       "      <td>1.0</td>\n",
       "    </tr>\n",
       "    <tr>\n",
       "      <th>24</th>\n",
       "      <td>40.0</td>\n",
       "      <td>40.0</td>\n",
       "      <td>0.001</td>\n",
       "      <td>10.0</td>\n",
       "      <td>0.400910</td>\n",
       "      <td>0.133692</td>\n",
       "      <td>1.0</td>\n",
       "    </tr>\n",
       "  </tbody>\n",
       "</table>\n",
       "</div>"
      ],
      "text/plain": [
       "      x0    y0  alpha1_0  alpha2_0  alpha1_final  alpha2_final  Сошелся\n",
       "0    0.0   0.0     0.001      10.0      0.401000      0.135729      1.0\n",
       "1   10.0   0.0     0.001      10.0      0.401000      0.133722      1.0\n",
       "2   20.0   0.0     0.001      10.0      0.401000      0.133722      1.0\n",
       "3   30.0   0.0     0.001      10.0      0.401000      0.133722      1.0\n",
       "4   40.0   0.0     0.001      10.0      0.401000      0.133722      1.0\n",
       "5    0.0  10.0     0.001      10.0      0.400975      0.134082      1.0\n",
       "6   10.0  10.0     0.001      10.0      0.400996      0.133721      1.0\n",
       "7   20.0  10.0     0.001      10.0      0.401015      0.133727      1.0\n",
       "8   30.0  10.0     0.001      10.0      0.401009      0.133725      1.0\n",
       "9   40.0  10.0     0.001      10.0      0.001045      0.000007      0.0\n",
       "10   0.0  20.0     0.001      10.0      0.400973      0.134123      1.0\n",
       "11  10.0  20.0     0.001      10.0      0.401023      0.133730      1.0\n",
       "12  20.0  20.0     0.001      10.0      0.001512      0.000102      0.0\n",
       "13  30.0  20.0     0.001      10.0      0.400989      0.133719      1.0\n",
       "14  40.0  20.0     0.001      10.0      0.003795      0.000224      0.0\n",
       "15   0.0  30.0     0.001      10.0      0.400976      0.134054      1.0\n",
       "16  10.0  30.0     0.001      10.0      0.400979      0.133715      1.0\n",
       "17  20.0  30.0     0.001      10.0      0.001773      0.000019      0.0\n",
       "18  30.0  30.0     0.001      10.0      0.001349      0.000045      0.0\n",
       "19  40.0  30.0     0.001      10.0      0.400894      0.133687      1.0\n",
       "20   0.0  40.0     0.001      10.0      0.400961      0.134490      1.0\n",
       "21  10.0  40.0     0.001      10.0      0.401003      0.133723      1.0\n",
       "22  20.0  40.0     0.001      10.0      0.400991      0.133719      1.0\n",
       "23  30.0  40.0     0.001      10.0      0.400979      0.133715      1.0\n",
       "24  40.0  40.0     0.001      10.0      0.400910      0.133692      1.0"
      ]
     },
     "execution_count": 143,
     "metadata": {},
     "output_type": "execute_result"
    }
   ],
   "source": [
    "BDF_results[3]"
   ]
  },
  {
   "cell_type": "markdown",
   "metadata": {},
   "source": [
    "Сошлись практически все)"
   ]
  },
  {
   "cell_type": "code",
   "execution_count": 144,
   "metadata": {
    "scrolled": true
   },
   "outputs": [
    {
     "name": "stdout",
     "output_type": "stream",
     "text": [
      "Из 25 попыток в итоге сошлись 20\n"
     ]
    }
   ],
   "source": [
    "print('Из {} попыток в итоге сошлись {}'.format(len(BDF_results[3]), int(np.sum(BDF_results[3]['Сошелся']))))"
   ]
  },
  {
   "cell_type": "markdown",
   "metadata": {},
   "source": [
    "В случае с нашим Рунге-Кутты 4го порядка сошлись всего лишь 5."
   ]
  },
  {
   "cell_type": "code",
   "execution_count": 159,
   "metadata": {},
   "outputs": [
    {
     "data": {
      "image/png": "[encoded data removed]",
      "text/plain": [
       "<Figure size 1512x1008 with 6 Axes>"
      ]
     },
     "metadata": {
      "needs_background": "light"
     },
     "output_type": "display_data"
    }
   ],
   "source": [
    "fig, ax = plt.subplots(2,3, figsize=(21,14), squeeze=False)\n",
    "for i,ind in enumerate([0, 5, 6, 10, 21, 18]):\n",
    "    pl = ax[i//3,i%3].plot(BDF_history[3][ind]['res'].t, BDF_history[3][ind]['res'].y.T)\n",
    "    ax[i//3,i%3].set_title('x_0={}, y_0={}'.format(*BDF_results[3].loc[ind,'x0':'y0']))\n",
    "    ax[i//3,i%3].legend(pl, ['X','Y','Alpha1', 'Alpha2'], loc='best')"
   ]
  },
  {
   "cell_type": "markdown",
   "metadata": {},
   "source": [
    "Где-то поведение метода имеет линейный характер, где-то графики довольно причудливы. Последний график - когда метод разошелся."
   ]
  },
  {
   "cell_type": "markdown",
   "metadata": {},
   "source": [
    "## <a id=6> Заключение </a>"
   ]
  },
  {
   "cell_type": "markdown",
   "metadata": {},
   "source": [
    "Ну чтож, работа лично для меня выдалась непростой. Пробежимся по тому, что мы в ней рассмотрели:\n",
    "\n",
    "1) Простенький явный метод Рунге-Кутты первого порядка, который смог справиться с некоторыми начальными значениями и вполне даже вроде бы нормально;\n",
    "\n",
    "2) Более интересный явный метод Рунге-Кутты четвертого порядка, который справляется со своей задачей немного лучше первого;\n",
    "\n",
    "3) Далее мы столкнулись с тем, что предложенный на просторах Интернета неявный двушаговый метод отказывается решать наши системы совсем;\n",
    "\n",
    "4) Реабилитировались, воспользовавшись стандартным неявным методом, который сошелся практически на всех данных ему начальных условиях и установил разнообразные интересные случая поведения наших переменных в зависимости от начальных данных задачи."
   ]
  },
  {
   "cell_type": "markdown",
   "metadata": {},
   "source": [
    "Спасибо за внимание!"
   ]
  }
 ],
 "metadata": {
  "kernelspec": {
   "display_name": "Python 3",
   "language": "python",
   "name": "python3"
  },
  "language_info": {
   "codemirror_mode": {
    "name": "ipython",
    "version": 3
   },
   "file_extension": ".py",
   "mimetype": "text/x-python",
   "name": "python",
   "nbconvert_exporter": "python",
   "pygments_lexer": "ipython3",
   "version": "3.7.6"
  }
 },
 "nbformat": 4,
 "nbformat_minor": 4
}
